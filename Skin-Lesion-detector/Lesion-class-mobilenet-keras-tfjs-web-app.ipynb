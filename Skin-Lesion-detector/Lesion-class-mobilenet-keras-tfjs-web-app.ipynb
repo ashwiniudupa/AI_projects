{
 "cells": [
  {
   "cell_type": "markdown",
   "id": "ff3a9a9d",
   "metadata": {
    "papermill": {
     "duration": 0.063202,
     "end_time": "2024-05-23T20:41:37.384419",
     "exception": false,
     "start_time": "2024-05-23T20:41:37.321217",
     "status": "completed"
    },
    "tags": []
   },
   "source": [
    "# Skin Lesion Detector\n",
    "\n",
    "- **Objective**: To classify skin lesions using the MobileNet pre-trained model and deploying the model to a Web Application using TFjs and GitHub pages server.\n",
    "The model gives higher importance to detecting Melanoma since its more dangerous type of skin cancer and early detection helps in treatment."
   ]
  },
  {
   "cell_type": "markdown",
   "id": "44369b69",
   "metadata": {
    "papermill": {
     "duration": 0.061718,
     "end_time": "2024-05-23T20:41:37.508029",
     "exception": false,
     "start_time": "2024-05-23T20:41:37.446311",
     "status": "completed"
    },
    "tags": []
   },
   "source": [
    "## Imports"
   ]
  },
  {
   "cell_type": "code",
   "execution_count": 1,
   "id": "90e19278",
   "metadata": {
    "_uuid": "371731306c3e504b191979706e826c247def88dc",
    "execution": {
     "iopub.execute_input": "2024-05-23T20:41:37.645979Z",
     "iopub.status.busy": "2024-05-23T20:41:37.645323Z",
     "iopub.status.idle": "2024-05-23T20:41:43.658122Z",
     "shell.execute_reply": "2024-05-23T20:41:43.658721Z",
     "shell.execute_reply.started": "2021-12-20T15:23:50.223161Z"
    },
    "papermill": {
     "duration": 6.089591,
     "end_time": "2024-05-23T20:41:43.659013",
     "exception": false,
     "start_time": "2024-05-23T20:41:37.569422",
     "status": "completed"
    },
    "tags": []
   },
   "outputs": [],
   "source": [
    "import pandas as pd\n",
    "import numpy as np\n",
    "\n",
    "import tensorflow as tf\n",
    "from tensorflow.keras.layers import Dense, Dropout\n",
    "from tensorflow.keras.optimizers import Adam\n",
    "from tensorflow.keras.metrics import categorical_crossentropy\n",
    "from tensorflow.keras.preprocessing.image import ImageDataGenerator\n",
    "from tensorflow.keras.models import Model\n",
    "from tensorflow.keras.callbacks import EarlyStopping, ReduceLROnPlateau, ModelCheckpoint\n",
    "\n",
    "import os\n",
    "\n",
    "from sklearn.metrics import confusion_matrix\n",
    "from sklearn.model_selection import train_test_split\n",
    "import itertools\n",
    "import shutil\n",
    "import matplotlib.pyplot as plt\n",
    "%matplotlib inline"
   ]
  },
  {
   "cell_type": "markdown",
   "id": "5418dd2d",
   "metadata": {
    "_uuid": "d3f6843b78793e1c047ca6909a7449dc9bfc3f1c",
    "papermill": {
     "duration": 0.062002,
     "end_time": "2024-05-23T20:41:43.783019",
     "exception": false,
     "start_time": "2024-05-23T20:41:43.721017",
     "status": "completed"
    },
    "tags": []
   },
   "source": [
    "**LABELS**<br>\n",
    "\n",
    "Excerpts from the paper:<br>\n",
    "> The HAM10000 Dataset: A Large Collection of Multi-Source Dermatoscopic Images of Common Pigmented Skin Lesions<br>\n",
    "https://arxiv.org/abs/1803.10417\n",
    "\n",
    "\n",
    "\n",
    " **nv**<br>\n",
    " Melanocytic nevi are benign neoplasms of melanocytes and appear in a myriad of variants, which all are included in our series. The variants may differ significantly from a dermatoscopic point of view.<br>\n",
    " *[6705 images]*\n",
    " \n",
    " **mel**<br>\n",
    " Melanoma is a malignant neoplasm derived from melanocytes that may appear in different variants. If excised in an early stage it can be cured by simple surgical excision. Melanomas can be invasive or non-invasive (in situ). We included all variants of melanoma including melanoma in situ, but did exclude non-pigmented, subungual, ocular or mucosal melanoma.<br>*[1113 images]*\n",
    " \n",
    " \n",
    "**bkl**<br>\n",
    " \"Benign keratosis\" is a generic class that includes seborrheic ker- atoses (\"senile wart\"), solar lentigo - which can be regarded a flat variant of seborrheic keratosis - and lichen-planus like keratoses (LPLK), which corresponds to a seborrheic keratosis or a solar lentigo with inflammation\n",
    "and regression [22]. The three subgroups may look different dermatoscop- ically, but we grouped them together because they are similar biologically and often reported under the same generic term histopathologically. From a dermatoscopic view, lichen planus-like keratoses are especially challeng- ing because they can show morphologic features mimicking melanoma [23] and are often biopsied or excised for diagnostic reasons.<br>\n",
    "*[1099 images]*\n",
    "\n",
    "**bcc**<br>\n",
    "Basal cell carcinoma is a common variant of epithelial skin cancer that rarely metastasizes but grows destructively if untreated. It appears in different morphologic variants (flat, nodular, pigmented, cystic, etc) [21], which are all included in this set.<br>\n",
    "*[514 images]*\n",
    " \n",
    "**akiec**<br>\n",
    "Actinic Keratoses (Solar Keratoses) and intraepithelial Carcinoma (Bowen’s disease) are common non-invasive, variants of squamous cell car- cinoma that can be treated locally without surgery. Some authors regard them as precursors of squamous cell carcinomas and not as actual carci- nomas. There is, however, agreement that these lesions may progress to invasive squamous cell carcinoma - which is usually not pigmented. Both neoplasms commonly show surface scaling and commonly are devoid of pigment. Actinic keratoses are more common on the face and Bowen’s disease is more common on other body sites. Because both types are in- duced by UV-light the surrounding skin is usually typified by severe sun damaged except in cases of Bowen’s disease that are caused by human papilloma virus infection and not by UV. Pigmented variants exists for Bowen’s disease [19] and for actinic keratoses [20]. Both are included in this set.<br>*[327 images]*\n",
    "\n",
    "\n",
    "**vasc**<br>\n",
    "Vascular skin lesions in the dataset range from cherry angiomas to angiokeratomas [25] and pyogenic granulomas [26]. Hemorrhage is also included in this category.<br>\n",
    "*[142 images]*\n",
    "\n",
    "**df**<br>\n",
    "Dermatofibroma is a benign skin lesion regarded as either a benign proliferation or an inflammatory reaction to minimal trauma. It is brown often showing a central zone of fibrosis dermatoscopically [24].<br>*[115 images]*\n",
    "\n",
    "\n",
    "<br>*[Total images = 10015]*"
   ]
  },
  {
   "cell_type": "code",
   "execution_count": 2,
   "id": "55e8ac2e",
   "metadata": {
    "_uuid": "d5a0a200bfc57c5489eaa930255d9420a7d01c47",
    "execution": {
     "iopub.execute_input": "2024-05-23T20:41:43.909205Z",
     "iopub.status.busy": "2024-05-23T20:41:43.908511Z",
     "iopub.status.idle": "2024-05-23T20:41:43.918747Z",
     "shell.execute_reply": "2024-05-23T20:41:43.917758Z",
     "shell.execute_reply.started": "2021-12-20T15:23:55.765113Z"
    },
    "papermill": {
     "duration": 0.074496,
     "end_time": "2024-05-23T20:41:43.918879",
     "exception": false,
     "start_time": "2024-05-23T20:41:43.844383",
     "status": "completed"
    },
    "tags": []
   },
   "outputs": [
    {
     "data": {
      "text/plain": [
       "['hmnist_8_8_RGB.csv',\n",
       " 'hmnist_28_28_RGB.csv',\n",
       " 'HAM10000_images_part_1',\n",
       " 'ham10000_images_part_1',\n",
       " 'hmnist_8_8_L.csv',\n",
       " 'HAM10000_images_part_2',\n",
       " 'ham10000_images_part_2',\n",
       " 'hmnist_28_28_L.csv',\n",
       " 'HAM10000_metadata.csv']"
      ]
     },
     "execution_count": 2,
     "metadata": {},
     "output_type": "execute_result"
    }
   ],
   "source": [
    "inp = '../input/skin-cancer-mnist-ham10000/'\n",
    "os.listdir(inp)"
   ]
  },
  {
   "cell_type": "markdown",
   "id": "d9ec815a",
   "metadata": {
    "_uuid": "086162161ba405b800863e7d545b5917e5205984",
    "papermill": {
     "duration": 0.060414,
     "end_time": "2024-05-23T20:41:44.041724",
     "exception": false,
     "start_time": "2024-05-23T20:41:43.981310",
     "status": "completed"
    },
    "tags": []
   },
   "source": [
    "### Create the directory structure\n",
    "\n",
    "In these folders we will store the images that will later be fed to the Keras generators. "
   ]
  },
  {
   "cell_type": "code",
   "execution_count": 3,
   "id": "061dedde",
   "metadata": {
    "_uuid": "d24ef21f9f2359b8bf6b3e7a0b8ab5a43daaf566",
    "execution": {
     "iopub.execute_input": "2024-05-23T20:41:44.175718Z",
     "iopub.status.busy": "2024-05-23T20:41:44.170932Z",
     "iopub.status.idle": "2024-05-23T20:41:44.179975Z",
     "shell.execute_reply": "2024-05-23T20:41:44.179332Z",
     "shell.execute_reply.started": "2021-12-20T15:23:55.778868Z"
    },
    "papermill": {
     "duration": 0.077222,
     "end_time": "2024-05-23T20:41:44.180101",
     "exception": false,
     "start_time": "2024-05-23T20:41:44.102879",
     "status": "completed"
    },
    "tags": []
   },
   "outputs": [],
   "source": [
    "# Create a new directory\n",
    "base_dir = 'base_dir'\n",
    "os.mkdir(base_dir)\n",
    "\n",
    "# now we create 7 folders inside 'base_dir':\n",
    "\n",
    "# train_dir\n",
    "    # nv\n",
    "    # mel\n",
    "    # bkl\n",
    "    # bcc\n",
    "    # akiec\n",
    "    # vasc\n",
    "    # df\n",
    " \n",
    "# val_dir\n",
    "    # nv\n",
    "    # mel\n",
    "    # bkl\n",
    "    # bcc\n",
    "    # akiec\n",
    "    # vasc\n",
    "    # df\n",
    "\n",
    "# create a path to 'base_dir' to which we will join the names of the new folders\n",
    "# train_dir\n",
    "train_dir = os.path.join(base_dir, 'train_dir')\n",
    "os.mkdir(train_dir)\n",
    "\n",
    "# val_dir\n",
    "val_dir = os.path.join(base_dir, 'val_dir')\n",
    "os.mkdir(val_dir)\n",
    "\n",
    "\n",
    "# [CREATE FOLDERS INSIDE THE TRAIN, VALIDATION AND TEST FOLDERS]\n",
    "# Inside each folder we create seperate folders for each class\n",
    "\n",
    "# create new folders inside train_dir\n",
    "nv = os.path.join(train_dir, 'nv')\n",
    "os.mkdir(nv)\n",
    "mel = os.path.join(train_dir, 'mel')\n",
    "os.mkdir(mel)\n",
    "bkl = os.path.join(train_dir, 'bkl')\n",
    "os.mkdir(bkl)\n",
    "bcc = os.path.join(train_dir, 'bcc')\n",
    "os.mkdir(bcc)\n",
    "akiec = os.path.join(train_dir, 'akiec')\n",
    "os.mkdir(akiec)\n",
    "vasc = os.path.join(train_dir, 'vasc')\n",
    "os.mkdir(vasc)\n",
    "df = os.path.join(train_dir, 'df')\n",
    "os.mkdir(df)\n",
    "\n",
    "# create new folders inside val_dir\n",
    "nv = os.path.join(val_dir, 'nv')\n",
    "os.mkdir(nv)\n",
    "mel = os.path.join(val_dir, 'mel')\n",
    "os.mkdir(mel)\n",
    "bkl = os.path.join(val_dir, 'bkl')\n",
    "os.mkdir(bkl)\n",
    "bcc = os.path.join(val_dir, 'bcc')\n",
    "os.mkdir(bcc)\n",
    "akiec = os.path.join(val_dir, 'akiec')\n",
    "os.mkdir(akiec)\n",
    "vasc = os.path.join(val_dir, 'vasc')\n",
    "os.mkdir(vasc)\n",
    "df = os.path.join(val_dir, 'df')\n",
    "os.mkdir(df)"
   ]
  },
  {
   "cell_type": "markdown",
   "id": "b9b03e37",
   "metadata": {
    "_uuid": "4ae8d37fdee293aaffa71a79019dd7277f8288fc",
    "papermill": {
     "duration": 0.064918,
     "end_time": "2024-05-23T20:41:44.305735",
     "exception": false,
     "start_time": "2024-05-23T20:41:44.240817",
     "status": "completed"
    },
    "tags": []
   },
   "source": [
    "### Create Train and Val Sets"
   ]
  },
  {
   "cell_type": "code",
   "execution_count": 4,
   "id": "120ce973",
   "metadata": {
    "_uuid": "268503398ef61904e05a2c0b0667d589f08a19a8",
    "execution": {
     "iopub.execute_input": "2024-05-23T20:41:44.437385Z",
     "iopub.status.busy": "2024-05-23T20:41:44.436713Z",
     "iopub.status.idle": "2024-05-23T20:41:44.490729Z",
     "shell.execute_reply": "2024-05-23T20:41:44.490112Z",
     "shell.execute_reply.started": "2021-12-20T15:23:55.794908Z"
    },
    "papermill": {
     "duration": 0.120772,
     "end_time": "2024-05-23T20:41:44.490856",
     "exception": false,
     "start_time": "2024-05-23T20:41:44.370084",
     "status": "completed"
    },
    "tags": []
   },
   "outputs": [
    {
     "data": {
      "text/html": [
       "<div>\n",
       "<style scoped>\n",
       "    .dataframe tbody tr th:only-of-type {\n",
       "        vertical-align: middle;\n",
       "    }\n",
       "\n",
       "    .dataframe tbody tr th {\n",
       "        vertical-align: top;\n",
       "    }\n",
       "\n",
       "    .dataframe thead th {\n",
       "        text-align: right;\n",
       "    }\n",
       "</style>\n",
       "<table border=\"1\" class=\"dataframe\">\n",
       "  <thead>\n",
       "    <tr style=\"text-align: right;\">\n",
       "      <th></th>\n",
       "      <th>lesion_id</th>\n",
       "      <th>image_id</th>\n",
       "      <th>dx</th>\n",
       "      <th>dx_type</th>\n",
       "      <th>age</th>\n",
       "      <th>sex</th>\n",
       "      <th>localization</th>\n",
       "    </tr>\n",
       "  </thead>\n",
       "  <tbody>\n",
       "    <tr>\n",
       "      <th>0</th>\n",
       "      <td>HAM_0000118</td>\n",
       "      <td>ISIC_0027419</td>\n",
       "      <td>bkl</td>\n",
       "      <td>histo</td>\n",
       "      <td>80.0</td>\n",
       "      <td>male</td>\n",
       "      <td>scalp</td>\n",
       "    </tr>\n",
       "    <tr>\n",
       "      <th>1</th>\n",
       "      <td>HAM_0000118</td>\n",
       "      <td>ISIC_0025030</td>\n",
       "      <td>bkl</td>\n",
       "      <td>histo</td>\n",
       "      <td>80.0</td>\n",
       "      <td>male</td>\n",
       "      <td>scalp</td>\n",
       "    </tr>\n",
       "    <tr>\n",
       "      <th>2</th>\n",
       "      <td>HAM_0002730</td>\n",
       "      <td>ISIC_0026769</td>\n",
       "      <td>bkl</td>\n",
       "      <td>histo</td>\n",
       "      <td>80.0</td>\n",
       "      <td>male</td>\n",
       "      <td>scalp</td>\n",
       "    </tr>\n",
       "    <tr>\n",
       "      <th>3</th>\n",
       "      <td>HAM_0002730</td>\n",
       "      <td>ISIC_0025661</td>\n",
       "      <td>bkl</td>\n",
       "      <td>histo</td>\n",
       "      <td>80.0</td>\n",
       "      <td>male</td>\n",
       "      <td>scalp</td>\n",
       "    </tr>\n",
       "    <tr>\n",
       "      <th>4</th>\n",
       "      <td>HAM_0001466</td>\n",
       "      <td>ISIC_0031633</td>\n",
       "      <td>bkl</td>\n",
       "      <td>histo</td>\n",
       "      <td>75.0</td>\n",
       "      <td>male</td>\n",
       "      <td>ear</td>\n",
       "    </tr>\n",
       "  </tbody>\n",
       "</table>\n",
       "</div>"
      ],
      "text/plain": [
       "     lesion_id      image_id   dx dx_type   age   sex localization\n",
       "0  HAM_0000118  ISIC_0027419  bkl   histo  80.0  male        scalp\n",
       "1  HAM_0000118  ISIC_0025030  bkl   histo  80.0  male        scalp\n",
       "2  HAM_0002730  ISIC_0026769  bkl   histo  80.0  male        scalp\n",
       "3  HAM_0002730  ISIC_0025661  bkl   histo  80.0  male        scalp\n",
       "4  HAM_0001466  ISIC_0031633  bkl   histo  75.0  male          ear"
      ]
     },
     "execution_count": 4,
     "metadata": {},
     "output_type": "execute_result"
    }
   ],
   "source": [
    "df_data = pd.read_csv(inp+'HAM10000_metadata.csv')\n",
    "\n",
    "df_data.head()"
   ]
  },
  {
   "cell_type": "markdown",
   "id": "74494423",
   "metadata": {
    "_uuid": "c46ea5967e095d31dcf144b6f57f0343878fa432",
    "papermill": {
     "duration": 0.060868,
     "end_time": "2024-05-23T20:41:44.613364",
     "exception": false,
     "start_time": "2024-05-23T20:41:44.552496",
     "status": "completed"
    },
    "tags": []
   },
   "source": [
    "### Create a stratified val set"
   ]
  },
  {
   "cell_type": "code",
   "execution_count": 5,
   "id": "6504f1ec",
   "metadata": {
    "_uuid": "53e4b7b152ed831a7d7516156ac300c0e6985ffc",
    "execution": {
     "iopub.execute_input": "2024-05-23T20:41:44.747118Z",
     "iopub.status.busy": "2024-05-23T20:41:44.746495Z",
     "iopub.status.idle": "2024-05-23T20:41:44.777457Z",
     "shell.execute_reply": "2024-05-23T20:41:44.776933Z",
     "shell.execute_reply.started": "2021-12-20T15:23:55.873032Z"
    },
    "papermill": {
     "duration": 0.103425,
     "end_time": "2024-05-23T20:41:44.777594",
     "exception": false,
     "start_time": "2024-05-23T20:41:44.674169",
     "status": "completed"
    },
    "tags": []
   },
   "outputs": [
    {
     "data": {
      "text/html": [
       "<div>\n",
       "<style scoped>\n",
       "    .dataframe tbody tr th:only-of-type {\n",
       "        vertical-align: middle;\n",
       "    }\n",
       "\n",
       "    .dataframe tbody tr th {\n",
       "        vertical-align: top;\n",
       "    }\n",
       "\n",
       "    .dataframe thead th {\n",
       "        text-align: right;\n",
       "    }\n",
       "</style>\n",
       "<table border=\"1\" class=\"dataframe\">\n",
       "  <thead>\n",
       "    <tr style=\"text-align: right;\">\n",
       "      <th></th>\n",
       "      <th>lesion_id</th>\n",
       "      <th>image_id</th>\n",
       "      <th>dx</th>\n",
       "      <th>dx_type</th>\n",
       "      <th>age</th>\n",
       "      <th>sex</th>\n",
       "      <th>localization</th>\n",
       "    </tr>\n",
       "  </thead>\n",
       "  <tbody>\n",
       "    <tr>\n",
       "      <th>0</th>\n",
       "      <td>HAM_0000001</td>\n",
       "      <td>1</td>\n",
       "      <td>1</td>\n",
       "      <td>1</td>\n",
       "      <td>1</td>\n",
       "      <td>1</td>\n",
       "      <td>1</td>\n",
       "    </tr>\n",
       "    <tr>\n",
       "      <th>1</th>\n",
       "      <td>HAM_0000003</td>\n",
       "      <td>1</td>\n",
       "      <td>1</td>\n",
       "      <td>1</td>\n",
       "      <td>1</td>\n",
       "      <td>1</td>\n",
       "      <td>1</td>\n",
       "    </tr>\n",
       "    <tr>\n",
       "      <th>2</th>\n",
       "      <td>HAM_0000004</td>\n",
       "      <td>1</td>\n",
       "      <td>1</td>\n",
       "      <td>1</td>\n",
       "      <td>1</td>\n",
       "      <td>1</td>\n",
       "      <td>1</td>\n",
       "    </tr>\n",
       "    <tr>\n",
       "      <th>3</th>\n",
       "      <td>HAM_0000007</td>\n",
       "      <td>1</td>\n",
       "      <td>1</td>\n",
       "      <td>1</td>\n",
       "      <td>1</td>\n",
       "      <td>1</td>\n",
       "      <td>1</td>\n",
       "    </tr>\n",
       "    <tr>\n",
       "      <th>4</th>\n",
       "      <td>HAM_0000008</td>\n",
       "      <td>1</td>\n",
       "      <td>1</td>\n",
       "      <td>1</td>\n",
       "      <td>1</td>\n",
       "      <td>1</td>\n",
       "      <td>1</td>\n",
       "    </tr>\n",
       "  </tbody>\n",
       "</table>\n",
       "</div>"
      ],
      "text/plain": [
       "     lesion_id  image_id  dx  dx_type  age  sex  localization\n",
       "0  HAM_0000001         1   1        1    1    1             1\n",
       "1  HAM_0000003         1   1        1    1    1             1\n",
       "2  HAM_0000004         1   1        1    1    1             1\n",
       "3  HAM_0000007         1   1        1    1    1             1\n",
       "4  HAM_0000008         1   1        1    1    1             1"
      ]
     },
     "execution_count": 5,
     "metadata": {},
     "output_type": "execute_result"
    }
   ],
   "source": [
    "# this will tell us how many images are associated with each lesion_id\n",
    "df = df_data.groupby('lesion_id').count()\n",
    "\n",
    "# now we filter out lesion_id's that have only one image associated with it\n",
    "df = df[df['image_id'] == 1]\n",
    "\n",
    "df.reset_index(inplace=True)\n",
    "\n",
    "df.head()"
   ]
  },
  {
   "cell_type": "code",
   "execution_count": 6,
   "id": "72058577",
   "metadata": {
    "_uuid": "24720fe3ea9f2f4b571abd09ecfbb931d6429852",
    "execution": {
     "iopub.execute_input": "2024-05-23T20:41:44.914642Z",
     "iopub.status.busy": "2024-05-23T20:41:44.909266Z",
     "iopub.status.idle": "2024-05-23T20:41:52.107461Z",
     "shell.execute_reply": "2024-05-23T20:41:52.106641Z",
     "shell.execute_reply.started": "2021-12-20T15:23:55.90843Z"
    },
    "papermill": {
     "duration": 7.267508,
     "end_time": "2024-05-23T20:41:52.107652",
     "exception": false,
     "start_time": "2024-05-23T20:41:44.840144",
     "status": "completed"
    },
    "tags": []
   },
   "outputs": [
    {
     "data": {
      "text/html": [
       "<div>\n",
       "<style scoped>\n",
       "    .dataframe tbody tr th:only-of-type {\n",
       "        vertical-align: middle;\n",
       "    }\n",
       "\n",
       "    .dataframe tbody tr th {\n",
       "        vertical-align: top;\n",
       "    }\n",
       "\n",
       "    .dataframe thead th {\n",
       "        text-align: right;\n",
       "    }\n",
       "</style>\n",
       "<table border=\"1\" class=\"dataframe\">\n",
       "  <thead>\n",
       "    <tr style=\"text-align: right;\">\n",
       "      <th></th>\n",
       "      <th>lesion_id</th>\n",
       "      <th>image_id</th>\n",
       "      <th>dx</th>\n",
       "      <th>dx_type</th>\n",
       "      <th>age</th>\n",
       "      <th>sex</th>\n",
       "      <th>localization</th>\n",
       "      <th>duplicates</th>\n",
       "    </tr>\n",
       "  </thead>\n",
       "  <tbody>\n",
       "    <tr>\n",
       "      <th>0</th>\n",
       "      <td>HAM_0000118</td>\n",
       "      <td>ISIC_0027419</td>\n",
       "      <td>bkl</td>\n",
       "      <td>histo</td>\n",
       "      <td>80.0</td>\n",
       "      <td>male</td>\n",
       "      <td>scalp</td>\n",
       "      <td>has_duplicates</td>\n",
       "    </tr>\n",
       "    <tr>\n",
       "      <th>1</th>\n",
       "      <td>HAM_0000118</td>\n",
       "      <td>ISIC_0025030</td>\n",
       "      <td>bkl</td>\n",
       "      <td>histo</td>\n",
       "      <td>80.0</td>\n",
       "      <td>male</td>\n",
       "      <td>scalp</td>\n",
       "      <td>has_duplicates</td>\n",
       "    </tr>\n",
       "    <tr>\n",
       "      <th>2</th>\n",
       "      <td>HAM_0002730</td>\n",
       "      <td>ISIC_0026769</td>\n",
       "      <td>bkl</td>\n",
       "      <td>histo</td>\n",
       "      <td>80.0</td>\n",
       "      <td>male</td>\n",
       "      <td>scalp</td>\n",
       "      <td>has_duplicates</td>\n",
       "    </tr>\n",
       "    <tr>\n",
       "      <th>3</th>\n",
       "      <td>HAM_0002730</td>\n",
       "      <td>ISIC_0025661</td>\n",
       "      <td>bkl</td>\n",
       "      <td>histo</td>\n",
       "      <td>80.0</td>\n",
       "      <td>male</td>\n",
       "      <td>scalp</td>\n",
       "      <td>has_duplicates</td>\n",
       "    </tr>\n",
       "    <tr>\n",
       "      <th>4</th>\n",
       "      <td>HAM_0001466</td>\n",
       "      <td>ISIC_0031633</td>\n",
       "      <td>bkl</td>\n",
       "      <td>histo</td>\n",
       "      <td>75.0</td>\n",
       "      <td>male</td>\n",
       "      <td>ear</td>\n",
       "      <td>has_duplicates</td>\n",
       "    </tr>\n",
       "  </tbody>\n",
       "</table>\n",
       "</div>"
      ],
      "text/plain": [
       "     lesion_id      image_id   dx dx_type   age   sex localization  \\\n",
       "0  HAM_0000118  ISIC_0027419  bkl   histo  80.0  male        scalp   \n",
       "1  HAM_0000118  ISIC_0025030  bkl   histo  80.0  male        scalp   \n",
       "2  HAM_0002730  ISIC_0026769  bkl   histo  80.0  male        scalp   \n",
       "3  HAM_0002730  ISIC_0025661  bkl   histo  80.0  male        scalp   \n",
       "4  HAM_0001466  ISIC_0031633  bkl   histo  75.0  male          ear   \n",
       "\n",
       "       duplicates  \n",
       "0  has_duplicates  \n",
       "1  has_duplicates  \n",
       "2  has_duplicates  \n",
       "3  has_duplicates  \n",
       "4  has_duplicates  "
      ]
     },
     "execution_count": 6,
     "metadata": {},
     "output_type": "execute_result"
    }
   ],
   "source": [
    "# here we identify lesion_id's that have duplicate images and those that have only\n",
    "# one image.\n",
    "\n",
    "def identify_duplicates(x):\n",
    "    \n",
    "    unique_list = list(df['lesion_id'])\n",
    "    \n",
    "    if x in unique_list:\n",
    "        return 'no_duplicates'\n",
    "    else:\n",
    "        return 'has_duplicates'\n",
    "    \n",
    "# create a new colum that is a copy of the lesion_id column\n",
    "df_data['duplicates'] = df_data['lesion_id']\n",
    "# apply the function to this new column\n",
    "df_data['duplicates'] = df_data['duplicates'].apply(identify_duplicates)\n",
    "\n",
    "df_data.head()"
   ]
  },
  {
   "cell_type": "code",
   "execution_count": 7,
   "id": "b3387899",
   "metadata": {
    "_uuid": "08b7eef3e0ac4112f63b8fb26ce19d55483cbc04",
    "execution": {
     "iopub.execute_input": "2024-05-23T20:41:52.241194Z",
     "iopub.status.busy": "2024-05-23T20:41:52.240520Z",
     "iopub.status.idle": "2024-05-23T20:41:52.243520Z",
     "shell.execute_reply": "2024-05-23T20:41:52.244063Z",
     "shell.execute_reply.started": "2021-12-20T15:24:01.949072Z"
    },
    "papermill": {
     "duration": 0.074254,
     "end_time": "2024-05-23T20:41:52.244218",
     "exception": false,
     "start_time": "2024-05-23T20:41:52.169964",
     "status": "completed"
    },
    "tags": []
   },
   "outputs": [
    {
     "data": {
      "text/plain": [
       "no_duplicates     5514\n",
       "has_duplicates    4501\n",
       "Name: duplicates, dtype: int64"
      ]
     },
     "execution_count": 7,
     "metadata": {},
     "output_type": "execute_result"
    }
   ],
   "source": [
    "df_data['duplicates'].value_counts()"
   ]
  },
  {
   "cell_type": "code",
   "execution_count": 8,
   "id": "dc37d1eb",
   "metadata": {
    "_uuid": "995445dfda2745165a53e61f42615104b951d4af",
    "execution": {
     "iopub.execute_input": "2024-05-23T20:41:52.378178Z",
     "iopub.status.busy": "2024-05-23T20:41:52.377231Z",
     "iopub.status.idle": "2024-05-23T20:41:52.383084Z",
     "shell.execute_reply": "2024-05-23T20:41:52.383565Z",
     "shell.execute_reply.started": "2021-12-20T15:24:01.962715Z"
    },
    "papermill": {
     "duration": 0.075942,
     "end_time": "2024-05-23T20:41:52.383742",
     "exception": false,
     "start_time": "2024-05-23T20:41:52.307800",
     "status": "completed"
    },
    "tags": []
   },
   "outputs": [
    {
     "data": {
      "text/plain": [
       "(5514, 8)"
      ]
     },
     "execution_count": 8,
     "metadata": {},
     "output_type": "execute_result"
    }
   ],
   "source": [
    "# now we filter out images that don't have duplicates\n",
    "df = df_data[df_data['duplicates'] == 'no_duplicates']\n",
    "\n",
    "df.shape"
   ]
  },
  {
   "cell_type": "code",
   "execution_count": 9,
   "id": "136b1a07",
   "metadata": {
    "_uuid": "39fde25b59a9452cf700c5b2ff82cc7cc45c4a33",
    "execution": {
     "iopub.execute_input": "2024-05-23T20:41:52.519758Z",
     "iopub.status.busy": "2024-05-23T20:41:52.519092Z",
     "iopub.status.idle": "2024-05-23T20:41:52.530343Z",
     "shell.execute_reply": "2024-05-23T20:41:52.529847Z",
     "shell.execute_reply.started": "2021-12-20T15:24:01.976686Z"
    },
    "papermill": {
     "duration": 0.082086,
     "end_time": "2024-05-23T20:41:52.530465",
     "exception": false,
     "start_time": "2024-05-23T20:41:52.448379",
     "status": "completed"
    },
    "tags": []
   },
   "outputs": [
    {
     "data": {
      "text/plain": [
       "(938, 8)"
      ]
     },
     "execution_count": 9,
     "metadata": {},
     "output_type": "execute_result"
    }
   ],
   "source": [
    "# now we create a val set using df because we are sure that none of these images\n",
    "# have augmented duplicates in the train set\n",
    "y = df['dx']\n",
    "\n",
    "_, df_val = train_test_split(df, test_size=0.17, random_state=101, stratify=y)\n",
    "\n",
    "df_val.shape"
   ]
  },
  {
   "cell_type": "code",
   "execution_count": 10,
   "id": "f2922a95",
   "metadata": {
    "_uuid": "1df37227f7ce993d054ed5b8480ee724696fc210",
    "execution": {
     "iopub.execute_input": "2024-05-23T20:41:52.665559Z",
     "iopub.status.busy": "2024-05-23T20:41:52.664822Z",
     "iopub.status.idle": "2024-05-23T20:41:52.668449Z",
     "shell.execute_reply": "2024-05-23T20:41:52.667873Z",
     "shell.execute_reply.started": "2021-12-20T15:24:02.002603Z"
    },
    "papermill": {
     "duration": 0.072516,
     "end_time": "2024-05-23T20:41:52.668567",
     "exception": false,
     "start_time": "2024-05-23T20:41:52.596051",
     "status": "completed"
    },
    "tags": []
   },
   "outputs": [
    {
     "data": {
      "text/plain": [
       "nv       751\n",
       "bkl       75\n",
       "mel       39\n",
       "bcc       30\n",
       "akiec     26\n",
       "vasc      11\n",
       "df         6\n",
       "Name: dx, dtype: int64"
      ]
     },
     "execution_count": 10,
     "metadata": {},
     "output_type": "execute_result"
    }
   ],
   "source": [
    "df_val['dx'].value_counts()"
   ]
  },
  {
   "cell_type": "markdown",
   "id": "1de729c9",
   "metadata": {
    "_uuid": "08c5e12fcef2da5f49267a6b82161b2c52c2b20a",
    "papermill": {
     "duration": 0.063869,
     "end_time": "2024-05-23T20:41:52.795759",
     "exception": false,
     "start_time": "2024-05-23T20:41:52.731890",
     "status": "completed"
    },
    "tags": []
   },
   "source": [
    "### Create a train set that excludes images that are in the val set"
   ]
  },
  {
   "cell_type": "code",
   "execution_count": 11,
   "id": "75ec3239",
   "metadata": {
    "_uuid": "03715a6cf5aeb6430ee144a84eb10dde216c0fb9",
    "execution": {
     "iopub.execute_input": "2024-05-23T20:41:52.929924Z",
     "iopub.status.busy": "2024-05-23T20:41:52.929060Z",
     "iopub.status.idle": "2024-05-23T20:41:54.308690Z",
     "shell.execute_reply": "2024-05-23T20:41:54.307920Z",
     "shell.execute_reply.started": "2021-12-20T15:24:02.013464Z"
    },
    "papermill": {
     "duration": 1.4496,
     "end_time": "2024-05-23T20:41:54.308838",
     "exception": false,
     "start_time": "2024-05-23T20:41:52.859238",
     "status": "completed"
    },
    "tags": []
   },
   "outputs": [
    {
     "name": "stdout",
     "output_type": "stream",
     "text": [
      "9077\n",
      "938\n"
     ]
    }
   ],
   "source": [
    "# This set will be df_data excluding all rows that are in the val set\n",
    "\n",
    "# This function identifies if an image is part of the train\n",
    "# or val set.\n",
    "def identify_val_rows(x):\n",
    "    # create a list of all the lesion_id's in the val set\n",
    "    val_list = list(df_val['image_id'])\n",
    "    \n",
    "    if str(x) in val_list:\n",
    "        return 'val'\n",
    "    else:\n",
    "        return 'train'\n",
    "\n",
    "# identify train and val rows\n",
    "\n",
    "# create a new colum that is a copy of the image_id column\n",
    "df_data['train_or_val'] = df_data['image_id']\n",
    "# apply the function to this new column\n",
    "df_data['train_or_val'] = df_data['train_or_val'].apply(identify_val_rows)\n",
    "   \n",
    "# filter out train rows\n",
    "df_train = df_data[df_data['train_or_val'] == 'train']\n",
    "\n",
    "\n",
    "print(len(df_train))\n",
    "print(len(df_val))"
   ]
  },
  {
   "cell_type": "code",
   "execution_count": 12,
   "id": "2f38beb8",
   "metadata": {
    "_uuid": "4b976a9018b1bd2dc0522c68339c5861534a1571",
    "execution": {
     "iopub.execute_input": "2024-05-23T20:41:54.447221Z",
     "iopub.status.busy": "2024-05-23T20:41:54.446440Z",
     "iopub.status.idle": "2024-05-23T20:41:54.449679Z",
     "shell.execute_reply": "2024-05-23T20:41:54.450200Z",
     "shell.execute_reply.started": "2021-12-20T15:24:03.417538Z"
    },
    "papermill": {
     "duration": 0.076318,
     "end_time": "2024-05-23T20:41:54.450364",
     "exception": false,
     "start_time": "2024-05-23T20:41:54.374046",
     "status": "completed"
    },
    "tags": []
   },
   "outputs": [
    {
     "data": {
      "text/plain": [
       "nv       5954\n",
       "mel      1074\n",
       "bkl      1024\n",
       "bcc       484\n",
       "akiec     301\n",
       "vasc      131\n",
       "df        109\n",
       "Name: dx, dtype: int64"
      ]
     },
     "execution_count": 12,
     "metadata": {},
     "output_type": "execute_result"
    }
   ],
   "source": [
    "df_train['dx'].value_counts()"
   ]
  },
  {
   "cell_type": "code",
   "execution_count": 13,
   "id": "ed7c3930",
   "metadata": {
    "_uuid": "1581d5a3e86f9673ae175102112017e30229bc37",
    "execution": {
     "iopub.execute_input": "2024-05-23T20:41:54.591371Z",
     "iopub.status.busy": "2024-05-23T20:41:54.590680Z",
     "iopub.status.idle": "2024-05-23T20:41:54.594411Z",
     "shell.execute_reply": "2024-05-23T20:41:54.593738Z",
     "shell.execute_reply.started": "2021-12-20T15:24:03.429144Z"
    },
    "papermill": {
     "duration": 0.076502,
     "end_time": "2024-05-23T20:41:54.594554",
     "exception": false,
     "start_time": "2024-05-23T20:41:54.518052",
     "status": "completed"
    },
    "tags": []
   },
   "outputs": [
    {
     "data": {
      "text/plain": [
       "nv       751\n",
       "bkl       75\n",
       "mel       39\n",
       "bcc       30\n",
       "akiec     26\n",
       "vasc      11\n",
       "df         6\n",
       "Name: dx, dtype: int64"
      ]
     },
     "execution_count": 13,
     "metadata": {},
     "output_type": "execute_result"
    }
   ],
   "source": [
    "df_val['dx'].value_counts()"
   ]
  },
  {
   "cell_type": "markdown",
   "id": "d1accced",
   "metadata": {
    "_uuid": "8812ad87c4fa18d2d82497df42c3895c7f10bc39",
    "papermill": {
     "duration": 0.065237,
     "end_time": "2024-05-23T20:41:54.727214",
     "exception": false,
     "start_time": "2024-05-23T20:41:54.661977",
     "status": "completed"
    },
    "tags": []
   },
   "source": [
    "### Transfer the Images into the Folders"
   ]
  },
  {
   "cell_type": "code",
   "execution_count": 14,
   "id": "6f7cc676",
   "metadata": {
    "_uuid": "4acee2b7879762e50b52df118a9b691515fe7ac0",
    "execution": {
     "iopub.execute_input": "2024-05-23T20:41:54.866799Z",
     "iopub.status.busy": "2024-05-23T20:41:54.866140Z",
     "iopub.status.idle": "2024-05-23T20:41:54.868874Z",
     "shell.execute_reply": "2024-05-23T20:41:54.868256Z",
     "shell.execute_reply.started": "2021-12-20T15:24:03.440393Z"
    },
    "papermill": {
     "duration": 0.073123,
     "end_time": "2024-05-23T20:41:54.868998",
     "exception": false,
     "start_time": "2024-05-23T20:41:54.795875",
     "status": "completed"
    },
    "tags": []
   },
   "outputs": [],
   "source": [
    "# Set the image_id as the index in df_data\n",
    "df_data.set_index('image_id', inplace=True)"
   ]
  },
  {
   "cell_type": "code",
   "execution_count": 15,
   "id": "4a80e50d",
   "metadata": {
    "execution": {
     "iopub.execute_input": "2024-05-23T20:41:55.010225Z",
     "iopub.status.busy": "2024-05-23T20:41:55.009276Z",
     "iopub.status.idle": "2024-05-23T20:41:55.012070Z",
     "shell.execute_reply": "2024-05-23T20:41:55.011400Z",
     "shell.execute_reply.started": "2021-12-20T15:24:03.44694Z"
    },
    "papermill": {
     "duration": 0.075884,
     "end_time": "2024-05-23T20:41:55.012204",
     "exception": false,
     "start_time": "2024-05-23T20:41:54.936320",
     "status": "completed"
    },
    "tags": []
   },
   "outputs": [],
   "source": [
    "base_dir = 'base_dir'\n",
    "\n",
    "train_dir = os.path.join(base_dir, 'train_dir')\n",
    "\n",
    "val_dir = os.path.join(base_dir, 'val_dir')"
   ]
  },
  {
   "cell_type": "code",
   "execution_count": 16,
   "id": "953646b0",
   "metadata": {
    "_uuid": "eca02fbf066c8124d0cb465295bbd2593f5f045a",
    "execution": {
     "iopub.execute_input": "2024-05-23T20:41:55.162440Z",
     "iopub.status.busy": "2024-05-23T20:41:55.161742Z",
     "iopub.status.idle": "2024-05-23T20:43:24.815897Z",
     "shell.execute_reply": "2024-05-23T20:43:24.816418Z",
     "shell.execute_reply.started": "2021-12-20T15:24:03.45517Z"
    },
    "papermill": {
     "duration": 89.733898,
     "end_time": "2024-05-23T20:43:24.816631",
     "exception": false,
     "start_time": "2024-05-23T20:41:55.082733",
     "status": "completed"
    },
    "tags": []
   },
   "outputs": [],
   "source": [
    "# Get a list of images in each of the two folders\n",
    "folder_1 = os.listdir(inp+'ham10000_images_part_1')\n",
    "folder_2 = os.listdir(inp+'ham10000_images_part_2')\n",
    "\n",
    "# Get a list of train and val images\n",
    "train_list = list(df_train['image_id'])\n",
    "val_list = list(df_val['image_id'])\n",
    "\n",
    "# Transfer the train images\n",
    "for image in train_list:\n",
    "    \n",
    "    fname = image + '.jpg'\n",
    "    label = df_data.loc[image,'dx']\n",
    "    \n",
    "    if fname in folder_1:\n",
    "        # source path to image\n",
    "        src = os.path.join(inp+'ham10000_images_part_1', fname)\n",
    "        # destination path to image\n",
    "        dst = os.path.join(train_dir, label, fname)\n",
    "        # copy the image from the source to the destination\n",
    "        shutil.copyfile(src, dst)\n",
    "\n",
    "    if fname in folder_2:\n",
    "        # source path to image\n",
    "        src = os.path.join(inp+'ham10000_images_part_2', fname)\n",
    "        # destination path to image\n",
    "        dst = os.path.join(train_dir, label, fname)\n",
    "        # copy the image from the source to the destination\n",
    "        shutil.copyfile(src, dst)\n",
    "\n",
    "# Transfer the val images\n",
    "for image in val_list:\n",
    "    fname = image + '.jpg'\n",
    "    label = df_data.loc[image,'dx']\n",
    "    \n",
    "    if fname in folder_1:\n",
    "        # source path to image\n",
    "        src = os.path.join(inp+'ham10000_images_part_1', fname)\n",
    "        # destination path to image\n",
    "        dst = os.path.join(val_dir, label, fname)\n",
    "        # copy the image from the source to the destination\n",
    "        shutil.copyfile(src, dst)\n",
    "\n",
    "    if fname in folder_2:\n",
    "        # source path to image\n",
    "        src = os.path.join(inp+'ham10000_images_part_2', fname)\n",
    "        # destination path to image\n",
    "        dst = os.path.join(val_dir, label, fname)\n",
    "        # copy the image from the source to the destination\n",
    "        shutil.copyfile(src, dst)\n",
    "        "
   ]
  },
  {
   "cell_type": "code",
   "execution_count": 17,
   "id": "7c2abc8c",
   "metadata": {
    "_uuid": "5a4847c4cc799c23e57bf2531d92117cb95e1b07",
    "execution": {
     "iopub.execute_input": "2024-05-23T20:43:24.953219Z",
     "iopub.status.busy": "2024-05-23T20:43:24.952574Z",
     "iopub.status.idle": "2024-05-23T20:43:24.962292Z",
     "shell.execute_reply": "2024-05-23T20:43:24.961636Z",
     "shell.execute_reply.started": "2021-12-20T15:25:37.197891Z"
    },
    "papermill": {
     "duration": 0.079987,
     "end_time": "2024-05-23T20:43:24.962422",
     "exception": false,
     "start_time": "2024-05-23T20:43:24.882435",
     "status": "completed"
    },
    "tags": []
   },
   "outputs": [
    {
     "name": "stdout",
     "output_type": "stream",
     "text": [
      "5954\n",
      "1074\n",
      "1024\n",
      "484\n",
      "301\n",
      "131\n",
      "109\n"
     ]
    }
   ],
   "source": [
    "# check how many train images we have in each folder\n",
    "\n",
    "print(len(os.listdir('base_dir/train_dir/nv')))\n",
    "print(len(os.listdir('base_dir/train_dir/mel')))\n",
    "print(len(os.listdir('base_dir/train_dir/bkl')))\n",
    "print(len(os.listdir('base_dir/train_dir/bcc')))\n",
    "print(len(os.listdir('base_dir/train_dir/akiec')))\n",
    "print(len(os.listdir('base_dir/train_dir/vasc')))\n",
    "print(len(os.listdir('base_dir/train_dir/df')))"
   ]
  },
  {
   "cell_type": "code",
   "execution_count": 18,
   "id": "52bb4c93",
   "metadata": {
    "_uuid": "fd05c08cbfa00418dc333f5b67d1ff6e98aa973e",
    "execution": {
     "iopub.execute_input": "2024-05-23T20:43:25.099506Z",
     "iopub.status.busy": "2024-05-23T20:43:25.098550Z",
     "iopub.status.idle": "2024-05-23T20:43:25.103700Z",
     "shell.execute_reply": "2024-05-23T20:43:25.104182Z",
     "shell.execute_reply.started": "2021-12-20T15:25:37.216232Z"
    },
    "papermill": {
     "duration": 0.076811,
     "end_time": "2024-05-23T20:43:25.104346",
     "exception": false,
     "start_time": "2024-05-23T20:43:25.027535",
     "status": "completed"
    },
    "tags": []
   },
   "outputs": [
    {
     "name": "stdout",
     "output_type": "stream",
     "text": [
      "751\n",
      "39\n",
      "75\n",
      "30\n",
      "26\n",
      "11\n",
      "6\n"
     ]
    }
   ],
   "source": [
    "# check how many val images we have in each folder\n",
    "\n",
    "print(len(os.listdir('base_dir/val_dir/nv')))\n",
    "print(len(os.listdir('base_dir/val_dir/mel')))\n",
    "print(len(os.listdir('base_dir/val_dir/bkl')))\n",
    "print(len(os.listdir('base_dir/val_dir/bcc')))\n",
    "print(len(os.listdir('base_dir/val_dir/akiec')))\n",
    "print(len(os.listdir('base_dir/val_dir/vasc')))\n",
    "print(len(os.listdir('base_dir/val_dir/df')))"
   ]
  },
  {
   "cell_type": "markdown",
   "id": "95e0b9e0",
   "metadata": {
    "_uuid": "cebcb5242ff542efb03be5086bf3796bea70c591",
    "papermill": {
     "duration": 0.066922,
     "end_time": "2024-05-23T20:43:25.237696",
     "exception": false,
     "start_time": "2024-05-23T20:43:25.170774",
     "status": "completed"
    },
    "tags": []
   },
   "source": [
    "### Copy the train images  into aug_dir"
   ]
  },
  {
   "cell_type": "code",
   "execution_count": 19,
   "id": "4989081d",
   "metadata": {
    "_uuid": "8fe970d74e9d5a284420af4ad37d8aae89dc1c15",
    "execution": {
     "iopub.execute_input": "2024-05-23T20:43:25.396844Z",
     "iopub.status.busy": "2024-05-23T20:43:25.395709Z",
     "iopub.status.idle": "2024-05-23T20:53:00.072291Z",
     "shell.execute_reply": "2024-05-23T20:53:00.071668Z",
     "shell.execute_reply.started": "2021-12-20T15:25:37.22822Z"
    },
    "papermill": {
     "duration": 574.768579,
     "end_time": "2024-05-23T20:53:00.072442",
     "exception": false,
     "start_time": "2024-05-23T20:43:25.303863",
     "status": "completed"
    },
    "tags": []
   },
   "outputs": [
    {
     "name": "stdout",
     "output_type": "stream",
     "text": [
      "Found 1074 images belonging to 1 classes.\n",
      "Found 1024 images belonging to 1 classes.\n",
      "Found 484 images belonging to 1 classes.\n",
      "Found 301 images belonging to 1 classes.\n",
      "Found 131 images belonging to 1 classes.\n",
      "Found 109 images belonging to 1 classes.\n"
     ]
    }
   ],
   "source": [
    "# note that we are not augmenting class 'nv'\n",
    "class_list = ['mel','bkl','bcc','akiec','vasc','df']\n",
    "\n",
    "for item in class_list:\n",
    "    # We are creating temporary directories here because we delete these directories later\n",
    "    # create a base dir\n",
    "    aug_dir = 'aug_dir'\n",
    "    os.mkdir(aug_dir)\n",
    "    # create a dir within the base dir to store images of the same class\n",
    "    img_dir = os.path.join(aug_dir, 'img_dir')\n",
    "    os.mkdir(img_dir)\n",
    "\n",
    "    # Choose a class\n",
    "    img_class = item\n",
    "\n",
    "    # list all images in that directory\n",
    "    img_list = os.listdir('base_dir/train_dir/' + img_class)\n",
    "\n",
    "    # Copy images from the class train dir to the img_dir e.g. class 'mel'\n",
    "    for fname in img_list:\n",
    "            # source path to image\n",
    "            src = os.path.join('base_dir/train_dir/' + img_class, fname)\n",
    "            # destination path to image\n",
    "            dst = os.path.join(img_dir, fname)\n",
    "            # copy the image from the source to the destination\n",
    "            shutil.copyfile(src, dst)\n",
    "\n",
    "\n",
    "    # point to a dir containing the images and not to the images themselves\n",
    "    path = aug_dir\n",
    "    save_path = 'base_dir/train_dir/' + img_class\n",
    "\n",
    "    # Create a data generator\n",
    "    datagen = ImageDataGenerator(\n",
    "        rotation_range=180,\n",
    "        width_shift_range=0.1,\n",
    "        height_shift_range=0.1,\n",
    "        zoom_range=0.1,\n",
    "        horizontal_flip=True,\n",
    "        vertical_flip=True,\n",
    "        #brightness_range=(0.9,1.1),\n",
    "        fill_mode='nearest')\n",
    "\n",
    "    batch_size = 50\n",
    "\n",
    "    aug_datagen = datagen.flow_from_directory(path,\n",
    "                                           save_to_dir=save_path,\n",
    "                                           save_format='jpg',\n",
    "                                                    target_size=(224,224),\n",
    "                                                    batch_size=batch_size)\n",
    "\n",
    "\n",
    "\n",
    "    # Generate the augmented images and add them to the training folders\n",
    "    ###########\n",
    "    num_aug_images_wanted = 6000        # total number of images we want to have in each class\n",
    "    ###########\n",
    "    \n",
    "    num_files = len(os.listdir(img_dir))\n",
    "    num_batches = int(np.ceil((num_aug_images_wanted-num_files)/batch_size))\n",
    "\n",
    "    # run the generator and create about 6000 augmented images\n",
    "    for i in range(0,num_batches):\n",
    "\n",
    "        imgs, labels = next(aug_datagen)\n",
    "        \n",
    "    # delete temporary directory with the raw image files\n",
    "    shutil.rmtree('aug_dir')"
   ]
  },
  {
   "cell_type": "code",
   "execution_count": 20,
   "id": "87f2fa30",
   "metadata": {
    "_uuid": "b9bbc56bd25441150d2430dca2b07d8ebae57d95",
    "execution": {
     "iopub.execute_input": "2024-05-23T20:53:00.213833Z",
     "iopub.status.busy": "2024-05-23T20:53:00.213161Z",
     "iopub.status.idle": "2024-05-23T20:53:00.239480Z",
     "shell.execute_reply": "2024-05-23T20:53:00.238894Z",
     "shell.execute_reply.started": "2021-12-20T15:35:00.75393Z"
    },
    "papermill": {
     "duration": 0.09928,
     "end_time": "2024-05-23T20:53:00.239631",
     "exception": false,
     "start_time": "2024-05-23T20:53:00.140351",
     "status": "completed"
    },
    "tags": []
   },
   "outputs": [
    {
     "name": "stdout",
     "output_type": "stream",
     "text": [
      "5954\n",
      "5920\n",
      "5920\n",
      "5858\n",
      "5217\n",
      "5290\n",
      "4410\n"
     ]
    }
   ],
   "source": [
    "# Check how many train images we now have in each folder.\n",
    "# This is the original images plus the augmented images.\n",
    "\n",
    "print(len(os.listdir('base_dir/train_dir/nv')))\n",
    "print(len(os.listdir('base_dir/train_dir/mel')))\n",
    "print(len(os.listdir('base_dir/train_dir/bkl')))\n",
    "print(len(os.listdir('base_dir/train_dir/bcc')))\n",
    "print(len(os.listdir('base_dir/train_dir/akiec')))\n",
    "print(len(os.listdir('base_dir/train_dir/vasc')))\n",
    "print(len(os.listdir('base_dir/train_dir/df')))"
   ]
  },
  {
   "cell_type": "code",
   "execution_count": 21,
   "id": "f4cbdf86",
   "metadata": {
    "_uuid": "21de03bdc63ecf78cc061d364d14d3216a544b43",
    "execution": {
     "iopub.execute_input": "2024-05-23T20:53:00.382448Z",
     "iopub.status.busy": "2024-05-23T20:53:00.381481Z",
     "iopub.status.idle": "2024-05-23T20:53:00.386655Z",
     "shell.execute_reply": "2024-05-23T20:53:00.386055Z",
     "shell.execute_reply.started": "2021-12-20T15:35:00.784504Z"
    },
    "papermill": {
     "duration": 0.079654,
     "end_time": "2024-05-23T20:53:00.386787",
     "exception": false,
     "start_time": "2024-05-23T20:53:00.307133",
     "status": "completed"
    },
    "tags": []
   },
   "outputs": [
    {
     "name": "stdout",
     "output_type": "stream",
     "text": [
      "751\n",
      "39\n",
      "75\n",
      "30\n",
      "26\n",
      "11\n",
      "6\n"
     ]
    }
   ],
   "source": [
    "# Check how many val images we have in each folder.\n",
    "\n",
    "print(len(os.listdir('base_dir/val_dir/nv')))\n",
    "print(len(os.listdir('base_dir/val_dir/mel')))\n",
    "print(len(os.listdir('base_dir/val_dir/bkl')))\n",
    "print(len(os.listdir('base_dir/val_dir/bcc')))\n",
    "print(len(os.listdir('base_dir/val_dir/akiec')))\n",
    "print(len(os.listdir('base_dir/val_dir/vasc')))\n",
    "print(len(os.listdir('base_dir/val_dir/df')))"
   ]
  },
  {
   "cell_type": "markdown",
   "id": "dd3f9f01",
   "metadata": {
    "_uuid": "767cb7d35e301369f020cdbb705da1620ba8e594",
    "papermill": {
     "duration": 0.067515,
     "end_time": "2024-05-23T20:53:00.522767",
     "exception": false,
     "start_time": "2024-05-23T20:53:00.455252",
     "status": "completed"
    },
    "tags": []
   },
   "source": [
    "### Visualize 50 augmented images"
   ]
  },
  {
   "cell_type": "code",
   "execution_count": 22,
   "id": "16e2aff4",
   "metadata": {
    "_uuid": "5f0e13a8455af926fe449e1b3ea818b704724202",
    "execution": {
     "iopub.execute_input": "2024-05-23T20:53:00.666768Z",
     "iopub.status.busy": "2024-05-23T20:53:00.666148Z",
     "iopub.status.idle": "2024-05-23T20:53:02.637819Z",
     "shell.execute_reply": "2024-05-23T20:53:02.638317Z",
     "shell.execute_reply.started": "2021-12-20T15:35:00.794938Z"
    },
    "papermill": {
     "duration": 2.047945,
     "end_time": "2024-05-23T20:53:02.638485",
     "exception": false,
     "start_time": "2024-05-23T20:53:00.590540",
     "status": "completed"
    },
    "tags": []
   },
   "outputs": [
    {
     "data": {
      "image/png": "[encoded data removed]",
      "text/plain": [
       "<Figure size 864x432 with 50 Axes>"
      ]
     },
     "metadata": {
      "needs_background": "light"
     },
     "output_type": "display_data"
    }
   ],
   "source": [
    "# plots images with labels within jupyter notebook\n",
    "# source: https://github.com/smileservices/keras_utils/blob/master/utils.py\n",
    "\n",
    "def plots(ims, figsize=(12,6), rows=5, interp=False, titles=None): # 12,6\n",
    "    if type(ims[0]) is np.ndarray:\n",
    "        ims = np.array(ims).astype(np.uint8)\n",
    "        if (ims.shape[-1] != 3):\n",
    "            ims = ims.transpose((0,2,3,1))\n",
    "    f = plt.figure(figsize=figsize)\n",
    "    cols = len(ims)//rows if len(ims) % 2 == 0 else len(ims)//rows + 1\n",
    "    for i in range(len(ims)):\n",
    "        sp = f.add_subplot(rows, cols, i+1)\n",
    "        sp.axis('Off')\n",
    "        if titles is not None:\n",
    "            sp.set_title(titles[i], fontsize=16)\n",
    "        plt.imshow(ims[i], interpolation=None if interp else 'none')\n",
    "        \n",
    "plots(imgs, titles=None) # titles=labels will display the image labels"
   ]
  },
  {
   "cell_type": "code",
   "execution_count": 23,
   "id": "f800cddd",
   "metadata": {
    "_uuid": "c3e2126a39c06568a1f95da2ab42353447d1be20",
    "execution": {
     "iopub.execute_input": "2024-05-23T20:53:02.805331Z",
     "iopub.status.busy": "2024-05-23T20:53:02.804485Z",
     "iopub.status.idle": "2024-05-23T20:53:02.807190Z",
     "shell.execute_reply": "2024-05-23T20:53:02.806551Z",
     "shell.execute_reply.started": "2021-12-20T15:35:03.09301Z"
    },
    "papermill": {
     "duration": 0.088294,
     "end_time": "2024-05-23T20:53:02.807313",
     "exception": false,
     "start_time": "2024-05-23T20:53:02.719019",
     "status": "completed"
    },
    "tags": []
   },
   "outputs": [],
   "source": [
    "# End of Data Preparation\n",
    "### ===================================================================================== ###\n",
    "# Start of Model Building"
   ]
  },
  {
   "cell_type": "markdown",
   "id": "35fd53dd",
   "metadata": {
    "_uuid": "32dad10b7c104d2baa972da8cbadc7d6038af05c",
    "papermill": {
     "duration": 0.079769,
     "end_time": "2024-05-23T20:53:02.967014",
     "exception": false,
     "start_time": "2024-05-23T20:53:02.887245",
     "status": "completed"
    },
    "tags": []
   },
   "source": [
    "### Set Up the Generators"
   ]
  },
  {
   "cell_type": "code",
   "execution_count": 24,
   "id": "3b1c1b86",
   "metadata": {
    "_uuid": "aa1041d69b0e8313324b91e3e9475799e1ad61c2",
    "execution": {
     "iopub.execute_input": "2024-05-23T20:53:03.133954Z",
     "iopub.status.busy": "2024-05-23T20:53:03.133171Z",
     "iopub.status.idle": "2024-05-23T20:53:03.135131Z",
     "shell.execute_reply": "2024-05-23T20:53:03.135555Z",
     "shell.execute_reply.started": "2021-12-20T15:35:03.098382Z"
    },
    "papermill": {
     "duration": 0.088849,
     "end_time": "2024-05-23T20:53:03.135748",
     "exception": false,
     "start_time": "2024-05-23T20:53:03.046899",
     "status": "completed"
    },
    "tags": []
   },
   "outputs": [],
   "source": [
    "train_path = 'base_dir/train_dir'\n",
    "valid_path = 'base_dir/val_dir'\n",
    "\n",
    "num_train_samples = len(df_train)\n",
    "num_val_samples = len(df_val)\n",
    "\n",
    "train_batch_size = 10  #Batch size \n",
    "val_batch_size = 10\n",
    "image_size = 224\n",
    "\n",
    "train_steps = np.ceil(num_train_samples / train_batch_size)\n",
    "val_steps = np.ceil(num_val_samples / val_batch_size)\n"
   ]
  },
  {
   "cell_type": "code",
   "execution_count": 25,
   "id": "da4eedd9",
   "metadata": {
    "_uuid": "d0e5aede7139196b0d4e1344b278e7621f005550",
    "execution": {
     "iopub.execute_input": "2024-05-23T20:53:03.303904Z",
     "iopub.status.busy": "2024-05-23T20:53:03.303266Z",
     "iopub.status.idle": "2024-05-23T20:53:05.747745Z",
     "shell.execute_reply": "2024-05-23T20:53:05.747215Z",
     "shell.execute_reply.started": "2021-12-20T15:35:03.110731Z"
    },
    "papermill": {
     "duration": 2.530853,
     "end_time": "2024-05-23T20:53:05.747900",
     "exception": false,
     "start_time": "2024-05-23T20:53:03.217047",
     "status": "completed"
    },
    "tags": []
   },
   "outputs": [
    {
     "name": "stdout",
     "output_type": "stream",
     "text": [
      "Found 38569 images belonging to 7 classes.\n",
      "Found 938 images belonging to 7 classes.\n",
      "Found 938 images belonging to 7 classes.\n"
     ]
    }
   ],
   "source": [
    "datagen = ImageDataGenerator(\n",
    "    preprocessing_function= tf.keras.applications.mobilenet.preprocess_input)\n",
    "\n",
    "train_batches = datagen.flow_from_directory(train_path,\n",
    "                                            target_size=(image_size,image_size),\n",
    "                                            batch_size=train_batch_size)\n",
    "\n",
    "valid_batches = datagen.flow_from_directory(valid_path,\n",
    "                                            target_size=(image_size,image_size),\n",
    "                                            batch_size=val_batch_size)\n",
    "\n",
    "# Note: shuffle=False causes the test dataset to not be shuffled\n",
    "test_batches = datagen.flow_from_directory(valid_path,\n",
    "                                            target_size=(image_size,image_size),\n",
    "                                            batch_size=1,\n",
    "                                            shuffle=False)"
   ]
  },
  {
   "cell_type": "markdown",
   "id": "1ba62b77",
   "metadata": {
    "_uuid": "8ee4ee41f1b16083bd9fc20ee9dec40acccc97dd",
    "papermill": {
     "duration": 0.081214,
     "end_time": "2024-05-23T20:53:05.912071",
     "exception": false,
     "start_time": "2024-05-23T20:53:05.830857",
     "status": "completed"
    },
    "tags": []
   },
   "source": [
    "### Modify MobileNet Model"
   ]
  },
  {
   "cell_type": "code",
   "execution_count": 26,
   "id": "56525b5d",
   "metadata": {
    "_uuid": "ad582cb8ea0ca2d563fc367aa89b7edfafc1a57f",
    "execution": {
     "iopub.execute_input": "2024-05-23T20:53:06.080823Z",
     "iopub.status.busy": "2024-05-23T20:53:06.080151Z",
     "iopub.status.idle": "2024-05-23T20:53:09.844565Z",
     "shell.execute_reply": "2024-05-23T20:53:09.844015Z",
     "shell.execute_reply.started": "2021-12-20T15:35:05.26596Z"
    },
    "papermill": {
     "duration": 3.851778,
     "end_time": "2024-05-23T20:53:09.844734",
     "exception": false,
     "start_time": "2024-05-23T20:53:05.992956",
     "status": "completed"
    },
    "tags": []
   },
   "outputs": [
    {
     "name": "stdout",
     "output_type": "stream",
     "text": [
      "Downloading data from https://storage.googleapis.com/tensorflow/keras-applications/mobilenet/mobilenet_1_0_224_tf.h5\n",
      "17227776/17225924 [==============================] - 0s 0us/step\n",
      "17235968/17225924 [==============================] - 0s 0us/step\n"
     ]
    }
   ],
   "source": [
    "# create a copy of a mobilenet model\n",
    "mobile = tf.keras.applications.mobilenet.MobileNet()"
   ]
  },
  {
   "cell_type": "code",
   "execution_count": 27,
   "id": "43afa514",
   "metadata": {
    "_kg_hide-output": true,
    "_uuid": "960449ec7ecdda92ba733ad23b00b7be605f3d4b",
    "execution": {
     "iopub.execute_input": "2024-05-23T20:53:10.024152Z",
     "iopub.status.busy": "2024-05-23T20:53:10.019537Z",
     "iopub.status.idle": "2024-05-23T20:53:10.050014Z",
     "shell.execute_reply": "2024-05-23T20:53:10.050614Z",
     "shell.execute_reply.started": "2021-12-20T15:35:08.426199Z"
    },
    "papermill": {
     "duration": 0.122488,
     "end_time": "2024-05-23T20:53:10.050799",
     "exception": false,
     "start_time": "2024-05-23T20:53:09.928311",
     "status": "completed"
    },
    "tags": []
   },
   "outputs": [
    {
     "name": "stdout",
     "output_type": "stream",
     "text": [
      "Model: \"mobilenet_1.00_224\"\n",
      "_________________________________________________________________\n",
      "Layer (type)                 Output Shape              Param #   \n",
      "=================================================================\n",
      "input_1 (InputLayer)         [(None, 224, 224, 3)]     0         \n",
      "_________________________________________________________________\n",
      "conv1 (Conv2D)               (None, 112, 112, 32)      864       \n",
      "_________________________________________________________________\n",
      "conv1_bn (BatchNormalization (None, 112, 112, 32)      128       \n",
      "_________________________________________________________________\n",
      "conv1_relu (ReLU)            (None, 112, 112, 32)      0         \n",
      "_________________________________________________________________\n",
      "conv_dw_1 (DepthwiseConv2D)  (None, 112, 112, 32)      288       \n",
      "_________________________________________________________________\n",
      "conv_dw_1_bn (BatchNormaliza (None, 112, 112, 32)      128       \n",
      "_________________________________________________________________\n",
      "conv_dw_1_relu (ReLU)        (None, 112, 112, 32)      0         \n",
      "_________________________________________________________________\n",
      "conv_pw_1 (Conv2D)           (None, 112, 112, 64)      2048      \n",
      "_________________________________________________________________\n",
      "conv_pw_1_bn (BatchNormaliza (None, 112, 112, 64)      256       \n",
      "_________________________________________________________________\n",
      "conv_pw_1_relu (ReLU)        (None, 112, 112, 64)      0         \n",
      "_________________________________________________________________\n",
      "conv_pad_2 (ZeroPadding2D)   (None, 113, 113, 64)      0         \n",
      "_________________________________________________________________\n",
      "conv_dw_2 (DepthwiseConv2D)  (None, 56, 56, 64)        576       \n",
      "_________________________________________________________________\n",
      "conv_dw_2_bn (BatchNormaliza (None, 56, 56, 64)        256       \n",
      "_________________________________________________________________\n",
      "conv_dw_2_relu (ReLU)        (None, 56, 56, 64)        0         \n",
      "_________________________________________________________________\n",
      "conv_pw_2 (Conv2D)           (None, 56, 56, 128)       8192      \n",
      "_________________________________________________________________\n",
      "conv_pw_2_bn (BatchNormaliza (None, 56, 56, 128)       512       \n",
      "_________________________________________________________________\n",
      "conv_pw_2_relu (ReLU)        (None, 56, 56, 128)       0         \n",
      "_________________________________________________________________\n",
      "conv_dw_3 (DepthwiseConv2D)  (None, 56, 56, 128)       1152      \n",
      "_________________________________________________________________\n",
      "conv_dw_3_bn (BatchNormaliza (None, 56, 56, 128)       512       \n",
      "_________________________________________________________________\n",
      "conv_dw_3_relu (ReLU)        (None, 56, 56, 128)       0         \n",
      "_________________________________________________________________\n",
      "conv_pw_3 (Conv2D)           (None, 56, 56, 128)       16384     \n",
      "_________________________________________________________________\n",
      "conv_pw_3_bn (BatchNormaliza (None, 56, 56, 128)       512       \n",
      "_________________________________________________________________\n",
      "conv_pw_3_relu (ReLU)        (None, 56, 56, 128)       0         \n",
      "_________________________________________________________________\n",
      "conv_pad_4 (ZeroPadding2D)   (None, 57, 57, 128)       0         \n",
      "_________________________________________________________________\n",
      "conv_dw_4 (DepthwiseConv2D)  (None, 28, 28, 128)       1152      \n",
      "_________________________________________________________________\n",
      "conv_dw_4_bn (BatchNormaliza (None, 28, 28, 128)       512       \n",
      "_________________________________________________________________\n",
      "conv_dw_4_relu (ReLU)        (None, 28, 28, 128)       0         \n",
      "_________________________________________________________________\n",
      "conv_pw_4 (Conv2D)           (None, 28, 28, 256)       32768     \n",
      "_________________________________________________________________\n",
      "conv_pw_4_bn (BatchNormaliza (None, 28, 28, 256)       1024      \n",
      "_________________________________________________________________\n",
      "conv_pw_4_relu (ReLU)        (None, 28, 28, 256)       0         \n",
      "_________________________________________________________________\n",
      "conv_dw_5 (DepthwiseConv2D)  (None, 28, 28, 256)       2304      \n",
      "_________________________________________________________________\n",
      "conv_dw_5_bn (BatchNormaliza (None, 28, 28, 256)       1024      \n",
      "_________________________________________________________________\n",
      "conv_dw_5_relu (ReLU)        (None, 28, 28, 256)       0         \n",
      "_________________________________________________________________\n",
      "conv_pw_5 (Conv2D)           (None, 28, 28, 256)       65536     \n",
      "_________________________________________________________________\n",
      "conv_pw_5_bn (BatchNormaliza (None, 28, 28, 256)       1024      \n",
      "_________________________________________________________________\n",
      "conv_pw_5_relu (ReLU)        (None, 28, 28, 256)       0         \n",
      "_________________________________________________________________\n",
      "conv_pad_6 (ZeroPadding2D)   (None, 29, 29, 256)       0         \n",
      "_________________________________________________________________\n",
      "conv_dw_6 (DepthwiseConv2D)  (None, 14, 14, 256)       2304      \n",
      "_________________________________________________________________\n",
      "conv_dw_6_bn (BatchNormaliza (None, 14, 14, 256)       1024      \n",
      "_________________________________________________________________\n",
      "conv_dw_6_relu (ReLU)        (None, 14, 14, 256)       0         \n",
      "_________________________________________________________________\n",
      "conv_pw_6 (Conv2D)           (None, 14, 14, 512)       131072    \n",
      "_________________________________________________________________\n",
      "conv_pw_6_bn (BatchNormaliza (None, 14, 14, 512)       2048      \n",
      "_________________________________________________________________\n",
      "conv_pw_6_relu (ReLU)        (None, 14, 14, 512)       0         \n",
      "_________________________________________________________________\n",
      "conv_dw_7 (DepthwiseConv2D)  (None, 14, 14, 512)       4608      \n",
      "_________________________________________________________________\n",
      "conv_dw_7_bn (BatchNormaliza (None, 14, 14, 512)       2048      \n",
      "_________________________________________________________________\n",
      "conv_dw_7_relu (ReLU)        (None, 14, 14, 512)       0         \n",
      "_________________________________________________________________\n",
      "conv_pw_7 (Conv2D)           (None, 14, 14, 512)       262144    \n",
      "_________________________________________________________________\n",
      "conv_pw_7_bn (BatchNormaliza (None, 14, 14, 512)       2048      \n",
      "_________________________________________________________________\n",
      "conv_pw_7_relu (ReLU)        (None, 14, 14, 512)       0         \n",
      "_________________________________________________________________\n",
      "conv_dw_8 (DepthwiseConv2D)  (None, 14, 14, 512)       4608      \n",
      "_________________________________________________________________\n",
      "conv_dw_8_bn (BatchNormaliza (None, 14, 14, 512)       2048      \n",
      "_________________________________________________________________\n",
      "conv_dw_8_relu (ReLU)        (None, 14, 14, 512)       0         \n",
      "_________________________________________________________________\n",
      "conv_pw_8 (Conv2D)           (None, 14, 14, 512)       262144    \n",
      "_________________________________________________________________\n",
      "conv_pw_8_bn (BatchNormaliza (None, 14, 14, 512)       2048      \n",
      "_________________________________________________________________\n",
      "conv_pw_8_relu (ReLU)        (None, 14, 14, 512)       0         \n",
      "_________________________________________________________________\n",
      "conv_dw_9 (DepthwiseConv2D)  (None, 14, 14, 512)       4608      \n",
      "_________________________________________________________________\n",
      "conv_dw_9_bn (BatchNormaliza (None, 14, 14, 512)       2048      \n",
      "_________________________________________________________________\n",
      "conv_dw_9_relu (ReLU)        (None, 14, 14, 512)       0         \n",
      "_________________________________________________________________\n",
      "conv_pw_9 (Conv2D)           (None, 14, 14, 512)       262144    \n",
      "_________________________________________________________________\n",
      "conv_pw_9_bn (BatchNormaliza (None, 14, 14, 512)       2048      \n",
      "_________________________________________________________________\n",
      "conv_pw_9_relu (ReLU)        (None, 14, 14, 512)       0         \n",
      "_________________________________________________________________\n",
      "conv_dw_10 (DepthwiseConv2D) (None, 14, 14, 512)       4608      \n",
      "_________________________________________________________________\n",
      "conv_dw_10_bn (BatchNormaliz (None, 14, 14, 512)       2048      \n",
      "_________________________________________________________________\n",
      "conv_dw_10_relu (ReLU)       (None, 14, 14, 512)       0         \n",
      "_________________________________________________________________\n",
      "conv_pw_10 (Conv2D)          (None, 14, 14, 512)       262144    \n",
      "_________________________________________________________________\n",
      "conv_pw_10_bn (BatchNormaliz (None, 14, 14, 512)       2048      \n",
      "_________________________________________________________________\n",
      "conv_pw_10_relu (ReLU)       (None, 14, 14, 512)       0         \n",
      "_________________________________________________________________\n",
      "conv_dw_11 (DepthwiseConv2D) (None, 14, 14, 512)       4608      \n",
      "_________________________________________________________________\n",
      "conv_dw_11_bn (BatchNormaliz (None, 14, 14, 512)       2048      \n",
      "_________________________________________________________________\n",
      "conv_dw_11_relu (ReLU)       (None, 14, 14, 512)       0         \n",
      "_________________________________________________________________\n",
      "conv_pw_11 (Conv2D)          (None, 14, 14, 512)       262144    \n",
      "_________________________________________________________________\n",
      "conv_pw_11_bn (BatchNormaliz (None, 14, 14, 512)       2048      \n",
      "_________________________________________________________________\n",
      "conv_pw_11_relu (ReLU)       (None, 14, 14, 512)       0         \n",
      "_________________________________________________________________\n",
      "conv_pad_12 (ZeroPadding2D)  (None, 15, 15, 512)       0         \n",
      "_________________________________________________________________\n",
      "conv_dw_12 (DepthwiseConv2D) (None, 7, 7, 512)         4608      \n",
      "_________________________________________________________________\n",
      "conv_dw_12_bn (BatchNormaliz (None, 7, 7, 512)         2048      \n",
      "_________________________________________________________________\n",
      "conv_dw_12_relu (ReLU)       (None, 7, 7, 512)         0         \n",
      "_________________________________________________________________\n",
      "conv_pw_12 (Conv2D)          (None, 7, 7, 1024)        524288    \n",
      "_________________________________________________________________\n",
      "conv_pw_12_bn (BatchNormaliz (None, 7, 7, 1024)        4096      \n",
      "_________________________________________________________________\n",
      "conv_pw_12_relu (ReLU)       (None, 7, 7, 1024)        0         \n",
      "_________________________________________________________________\n",
      "conv_dw_13 (DepthwiseConv2D) (None, 7, 7, 1024)        9216      \n",
      "_________________________________________________________________\n",
      "conv_dw_13_bn (BatchNormaliz (None, 7, 7, 1024)        4096      \n",
      "_________________________________________________________________\n",
      "conv_dw_13_relu (ReLU)       (None, 7, 7, 1024)        0         \n",
      "_________________________________________________________________\n",
      "conv_pw_13 (Conv2D)          (None, 7, 7, 1024)        1048576   \n",
      "_________________________________________________________________\n",
      "conv_pw_13_bn (BatchNormaliz (None, 7, 7, 1024)        4096      \n",
      "_________________________________________________________________\n",
      "conv_pw_13_relu (ReLU)       (None, 7, 7, 1024)        0         \n",
      "_________________________________________________________________\n",
      "global_average_pooling2d (Gl (None, 1024)              0         \n",
      "_________________________________________________________________\n",
      "reshape_1 (Reshape)          (None, 1, 1, 1024)        0         \n",
      "_________________________________________________________________\n",
      "dropout (Dropout)            (None, 1, 1, 1024)        0         \n",
      "_________________________________________________________________\n",
      "conv_preds (Conv2D)          (None, 1, 1, 1000)        1025000   \n",
      "_________________________________________________________________\n",
      "reshape_2 (Reshape)          (None, 1000)              0         \n",
      "_________________________________________________________________\n",
      "predictions (Activation)     (None, 1000)              0         \n",
      "=================================================================\n",
      "Total params: 4,253,864\n",
      "Trainable params: 4,231,976\n",
      "Non-trainable params: 21,888\n",
      "_________________________________________________________________\n"
     ]
    }
   ],
   "source": [
    "mobile.summary()"
   ]
  },
  {
   "cell_type": "code",
   "execution_count": 28,
   "id": "41b82297",
   "metadata": {
    "_uuid": "5b7922bdf625675834d9b63ec0e85351bd9f3c0f",
    "execution": {
     "iopub.execute_input": "2024-05-23T20:53:10.222743Z",
     "iopub.status.busy": "2024-05-23T20:53:10.221996Z",
     "iopub.status.idle": "2024-05-23T20:53:10.225800Z",
     "shell.execute_reply": "2024-05-23T20:53:10.225188Z",
     "shell.execute_reply.started": "2021-12-20T15:35:08.472561Z"
    },
    "papermill": {
     "duration": 0.092102,
     "end_time": "2024-05-23T20:53:10.225930",
     "exception": false,
     "start_time": "2024-05-23T20:53:10.133828",
     "status": "completed"
    },
    "tags": []
   },
   "outputs": [
    {
     "data": {
      "text/plain": [
       "list"
      ]
     },
     "execution_count": 28,
     "metadata": {},
     "output_type": "execute_result"
    }
   ],
   "source": [
    "type(mobile.layers)"
   ]
  },
  {
   "cell_type": "code",
   "execution_count": 29,
   "id": "a49c3605",
   "metadata": {
    "_uuid": "f832e5865c65a013a06dbf5d500c0381020c56d5",
    "execution": {
     "iopub.execute_input": "2024-05-23T20:53:10.408429Z",
     "iopub.status.busy": "2024-05-23T20:53:10.407672Z",
     "iopub.status.idle": "2024-05-23T20:53:10.410565Z",
     "shell.execute_reply": "2024-05-23T20:53:10.411088Z",
     "shell.execute_reply.started": "2021-12-20T15:35:08.484476Z"
    },
    "papermill": {
     "duration": 0.093683,
     "end_time": "2024-05-23T20:53:10.411251",
     "exception": false,
     "start_time": "2024-05-23T20:53:10.317568",
     "status": "completed"
    },
    "tags": []
   },
   "outputs": [
    {
     "data": {
      "text/plain": [
       "92"
      ]
     },
     "execution_count": 29,
     "metadata": {},
     "output_type": "execute_result"
    }
   ],
   "source": [
    "# How many layers does MobileNet have?\n",
    "len(mobile.layers)"
   ]
  },
  {
   "cell_type": "code",
   "execution_count": 30,
   "id": "09d6e19a",
   "metadata": {
    "execution": {
     "iopub.execute_input": "2024-05-23T20:53:10.585753Z",
     "iopub.status.busy": "2024-05-23T20:53:10.584943Z",
     "iopub.status.idle": "2024-05-23T20:53:10.587474Z",
     "shell.execute_reply": "2024-05-23T20:53:10.587006Z",
     "shell.execute_reply.started": "2021-12-20T15:35:08.492842Z"
    },
    "papermill": {
     "duration": 0.091683,
     "end_time": "2024-05-23T20:53:10.587623",
     "exception": false,
     "start_time": "2024-05-23T20:53:10.495940",
     "status": "completed"
    },
    "tags": []
   },
   "outputs": [],
   "source": [
    "from tensorflow.keras.layers import Dense, Dropout, Flatten\n",
    "from tensorflow.keras.metrics import categorical_crossentropy\n",
    "from tensorflow.keras.preprocessing.image import ImageDataGenerator\n",
    "from tensorflow.keras.models import Model\n",
    "from tensorflow.keras.callbacks import EarlyStopping, ReduceLROnPlateau, ModelCheckpoint\n"
   ]
  },
  {
   "cell_type": "code",
   "execution_count": 31,
   "id": "fa65073f",
   "metadata": {
    "_uuid": "4dd9dcf26d85a57a113e6b158cf8fceeca7f99de",
    "execution": {
     "iopub.execute_input": "2024-05-23T20:53:10.764745Z",
     "iopub.status.busy": "2024-05-23T20:53:10.764083Z",
     "iopub.status.idle": "2024-05-23T20:53:10.792749Z",
     "shell.execute_reply": "2024-05-23T20:53:10.793507Z",
     "shell.execute_reply.started": "2021-12-20T15:35:08.500758Z"
    },
    "papermill": {
     "duration": 0.122254,
     "end_time": "2024-05-23T20:53:10.793783",
     "exception": false,
     "start_time": "2024-05-23T20:53:10.671529",
     "status": "completed"
    },
    "tags": []
   },
   "outputs": [],
   "source": [
    "# CREATE THE MODEL ARCHITECTURE\n",
    "\n",
    "# Exclude the last 5 layers of the above model.\n",
    "# This will include all layers up to and including global_average_pooling2d_1\n",
    "x = mobile.layers[-6].output\n",
    "\n",
    "# Create a new dense layer for predictions\n",
    "\n",
    "# Flatten the output layer to 1 dimension\n",
    "x = Flatten()(x)\n",
    "\n",
    "# Create a new dense layer for predictions\n",
    "x = Dense(1024, activation='relu')(x)\n",
    "\n",
    "# 7 corresponds to the number of classes\n",
    "x = Dropout(0.25)(x)\n",
    "\n",
    "predictions = Dense(7, activation='softmax')(x)\n",
    "\n",
    "# inputs=mobile.input selects the input layer, outputs=predictions refers to the dense layer we created above.\n",
    "model = Model(inputs=mobile.input, outputs=predictions)"
   ]
  },
  {
   "cell_type": "code",
   "execution_count": 32,
   "id": "e688ec25",
   "metadata": {
    "_kg_hide-output": true,
    "_uuid": "b38734b72afc4289ab187a9e683cbda6bf3269bc",
    "execution": {
     "iopub.execute_input": "2024-05-23T20:53:10.975431Z",
     "iopub.status.busy": "2024-05-23T20:53:10.974554Z",
     "iopub.status.idle": "2024-05-23T20:53:11.003311Z",
     "shell.execute_reply": "2024-05-23T20:53:11.003780Z",
     "shell.execute_reply.started": "2021-12-20T15:35:08.535187Z"
    },
    "papermill": {
     "duration": 0.124373,
     "end_time": "2024-05-23T20:53:11.003946",
     "exception": false,
     "start_time": "2024-05-23T20:53:10.879573",
     "status": "completed"
    },
    "tags": []
   },
   "outputs": [
    {
     "name": "stdout",
     "output_type": "stream",
     "text": [
      "Model: \"model\"\n",
      "_________________________________________________________________\n",
      "Layer (type)                 Output Shape              Param #   \n",
      "=================================================================\n",
      "input_1 (InputLayer)         [(None, 224, 224, 3)]     0         \n",
      "_________________________________________________________________\n",
      "conv1 (Conv2D)               (None, 112, 112, 32)      864       \n",
      "_________________________________________________________________\n",
      "conv1_bn (BatchNormalization (None, 112, 112, 32)      128       \n",
      "_________________________________________________________________\n",
      "conv1_relu (ReLU)            (None, 112, 112, 32)      0         \n",
      "_________________________________________________________________\n",
      "conv_dw_1 (DepthwiseConv2D)  (None, 112, 112, 32)      288       \n",
      "_________________________________________________________________\n",
      "conv_dw_1_bn (BatchNormaliza (None, 112, 112, 32)      128       \n",
      "_________________________________________________________________\n",
      "conv_dw_1_relu (ReLU)        (None, 112, 112, 32)      0         \n",
      "_________________________________________________________________\n",
      "conv_pw_1 (Conv2D)           (None, 112, 112, 64)      2048      \n",
      "_________________________________________________________________\n",
      "conv_pw_1_bn (BatchNormaliza (None, 112, 112, 64)      256       \n",
      "_________________________________________________________________\n",
      "conv_pw_1_relu (ReLU)        (None, 112, 112, 64)      0         \n",
      "_________________________________________________________________\n",
      "conv_pad_2 (ZeroPadding2D)   (None, 113, 113, 64)      0         \n",
      "_________________________________________________________________\n",
      "conv_dw_2 (DepthwiseConv2D)  (None, 56, 56, 64)        576       \n",
      "_________________________________________________________________\n",
      "conv_dw_2_bn (BatchNormaliza (None, 56, 56, 64)        256       \n",
      "_________________________________________________________________\n",
      "conv_dw_2_relu (ReLU)        (None, 56, 56, 64)        0         \n",
      "_________________________________________________________________\n",
      "conv_pw_2 (Conv2D)           (None, 56, 56, 128)       8192      \n",
      "_________________________________________________________________\n",
      "conv_pw_2_bn (BatchNormaliza (None, 56, 56, 128)       512       \n",
      "_________________________________________________________________\n",
      "conv_pw_2_relu (ReLU)        (None, 56, 56, 128)       0         \n",
      "_________________________________________________________________\n",
      "conv_dw_3 (DepthwiseConv2D)  (None, 56, 56, 128)       1152      \n",
      "_________________________________________________________________\n",
      "conv_dw_3_bn (BatchNormaliza (None, 56, 56, 128)       512       \n",
      "_________________________________________________________________\n",
      "conv_dw_3_relu (ReLU)        (None, 56, 56, 128)       0         \n",
      "_________________________________________________________________\n",
      "conv_pw_3 (Conv2D)           (None, 56, 56, 128)       16384     \n",
      "_________________________________________________________________\n",
      "conv_pw_3_bn (BatchNormaliza (None, 56, 56, 128)       512       \n",
      "_________________________________________________________________\n",
      "conv_pw_3_relu (ReLU)        (None, 56, 56, 128)       0         \n",
      "_________________________________________________________________\n",
      "conv_pad_4 (ZeroPadding2D)   (None, 57, 57, 128)       0         \n",
      "_________________________________________________________________\n",
      "conv_dw_4 (DepthwiseConv2D)  (None, 28, 28, 128)       1152      \n",
      "_________________________________________________________________\n",
      "conv_dw_4_bn (BatchNormaliza (None, 28, 28, 128)       512       \n",
      "_________________________________________________________________\n",
      "conv_dw_4_relu (ReLU)        (None, 28, 28, 128)       0         \n",
      "_________________________________________________________________\n",
      "conv_pw_4 (Conv2D)           (None, 28, 28, 256)       32768     \n",
      "_________________________________________________________________\n",
      "conv_pw_4_bn (BatchNormaliza (None, 28, 28, 256)       1024      \n",
      "_________________________________________________________________\n",
      "conv_pw_4_relu (ReLU)        (None, 28, 28, 256)       0         \n",
      "_________________________________________________________________\n",
      "conv_dw_5 (DepthwiseConv2D)  (None, 28, 28, 256)       2304      \n",
      "_________________________________________________________________\n",
      "conv_dw_5_bn (BatchNormaliza (None, 28, 28, 256)       1024      \n",
      "_________________________________________________________________\n",
      "conv_dw_5_relu (ReLU)        (None, 28, 28, 256)       0         \n",
      "_________________________________________________________________\n",
      "conv_pw_5 (Conv2D)           (None, 28, 28, 256)       65536     \n",
      "_________________________________________________________________\n",
      "conv_pw_5_bn (BatchNormaliza (None, 28, 28, 256)       1024      \n",
      "_________________________________________________________________\n",
      "conv_pw_5_relu (ReLU)        (None, 28, 28, 256)       0         \n",
      "_________________________________________________________________\n",
      "conv_pad_6 (ZeroPadding2D)   (None, 29, 29, 256)       0         \n",
      "_________________________________________________________________\n",
      "conv_dw_6 (DepthwiseConv2D)  (None, 14, 14, 256)       2304      \n",
      "_________________________________________________________________\n",
      "conv_dw_6_bn (BatchNormaliza (None, 14, 14, 256)       1024      \n",
      "_________________________________________________________________\n",
      "conv_dw_6_relu (ReLU)        (None, 14, 14, 256)       0         \n",
      "_________________________________________________________________\n",
      "conv_pw_6 (Conv2D)           (None, 14, 14, 512)       131072    \n",
      "_________________________________________________________________\n",
      "conv_pw_6_bn (BatchNormaliza (None, 14, 14, 512)       2048      \n",
      "_________________________________________________________________\n",
      "conv_pw_6_relu (ReLU)        (None, 14, 14, 512)       0         \n",
      "_________________________________________________________________\n",
      "conv_dw_7 (DepthwiseConv2D)  (None, 14, 14, 512)       4608      \n",
      "_________________________________________________________________\n",
      "conv_dw_7_bn (BatchNormaliza (None, 14, 14, 512)       2048      \n",
      "_________________________________________________________________\n",
      "conv_dw_7_relu (ReLU)        (None, 14, 14, 512)       0         \n",
      "_________________________________________________________________\n",
      "conv_pw_7 (Conv2D)           (None, 14, 14, 512)       262144    \n",
      "_________________________________________________________________\n",
      "conv_pw_7_bn (BatchNormaliza (None, 14, 14, 512)       2048      \n",
      "_________________________________________________________________\n",
      "conv_pw_7_relu (ReLU)        (None, 14, 14, 512)       0         \n",
      "_________________________________________________________________\n",
      "conv_dw_8 (DepthwiseConv2D)  (None, 14, 14, 512)       4608      \n",
      "_________________________________________________________________\n",
      "conv_dw_8_bn (BatchNormaliza (None, 14, 14, 512)       2048      \n",
      "_________________________________________________________________\n",
      "conv_dw_8_relu (ReLU)        (None, 14, 14, 512)       0         \n",
      "_________________________________________________________________\n",
      "conv_pw_8 (Conv2D)           (None, 14, 14, 512)       262144    \n",
      "_________________________________________________________________\n",
      "conv_pw_8_bn (BatchNormaliza (None, 14, 14, 512)       2048      \n",
      "_________________________________________________________________\n",
      "conv_pw_8_relu (ReLU)        (None, 14, 14, 512)       0         \n",
      "_________________________________________________________________\n",
      "conv_dw_9 (DepthwiseConv2D)  (None, 14, 14, 512)       4608      \n",
      "_________________________________________________________________\n",
      "conv_dw_9_bn (BatchNormaliza (None, 14, 14, 512)       2048      \n",
      "_________________________________________________________________\n",
      "conv_dw_9_relu (ReLU)        (None, 14, 14, 512)       0         \n",
      "_________________________________________________________________\n",
      "conv_pw_9 (Conv2D)           (None, 14, 14, 512)       262144    \n",
      "_________________________________________________________________\n",
      "conv_pw_9_bn (BatchNormaliza (None, 14, 14, 512)       2048      \n",
      "_________________________________________________________________\n",
      "conv_pw_9_relu (ReLU)        (None, 14, 14, 512)       0         \n",
      "_________________________________________________________________\n",
      "conv_dw_10 (DepthwiseConv2D) (None, 14, 14, 512)       4608      \n",
      "_________________________________________________________________\n",
      "conv_dw_10_bn (BatchNormaliz (None, 14, 14, 512)       2048      \n",
      "_________________________________________________________________\n",
      "conv_dw_10_relu (ReLU)       (None, 14, 14, 512)       0         \n",
      "_________________________________________________________________\n",
      "conv_pw_10 (Conv2D)          (None, 14, 14, 512)       262144    \n",
      "_________________________________________________________________\n",
      "conv_pw_10_bn (BatchNormaliz (None, 14, 14, 512)       2048      \n",
      "_________________________________________________________________\n",
      "conv_pw_10_relu (ReLU)       (None, 14, 14, 512)       0         \n",
      "_________________________________________________________________\n",
      "conv_dw_11 (DepthwiseConv2D) (None, 14, 14, 512)       4608      \n",
      "_________________________________________________________________\n",
      "conv_dw_11_bn (BatchNormaliz (None, 14, 14, 512)       2048      \n",
      "_________________________________________________________________\n",
      "conv_dw_11_relu (ReLU)       (None, 14, 14, 512)       0         \n",
      "_________________________________________________________________\n",
      "conv_pw_11 (Conv2D)          (None, 14, 14, 512)       262144    \n",
      "_________________________________________________________________\n",
      "conv_pw_11_bn (BatchNormaliz (None, 14, 14, 512)       2048      \n",
      "_________________________________________________________________\n",
      "conv_pw_11_relu (ReLU)       (None, 14, 14, 512)       0         \n",
      "_________________________________________________________________\n",
      "conv_pad_12 (ZeroPadding2D)  (None, 15, 15, 512)       0         \n",
      "_________________________________________________________________\n",
      "conv_dw_12 (DepthwiseConv2D) (None, 7, 7, 512)         4608      \n",
      "_________________________________________________________________\n",
      "conv_dw_12_bn (BatchNormaliz (None, 7, 7, 512)         2048      \n",
      "_________________________________________________________________\n",
      "conv_dw_12_relu (ReLU)       (None, 7, 7, 512)         0         \n",
      "_________________________________________________________________\n",
      "conv_pw_12 (Conv2D)          (None, 7, 7, 1024)        524288    \n",
      "_________________________________________________________________\n",
      "conv_pw_12_bn (BatchNormaliz (None, 7, 7, 1024)        4096      \n",
      "_________________________________________________________________\n",
      "conv_pw_12_relu (ReLU)       (None, 7, 7, 1024)        0         \n",
      "_________________________________________________________________\n",
      "conv_dw_13 (DepthwiseConv2D) (None, 7, 7, 1024)        9216      \n",
      "_________________________________________________________________\n",
      "conv_dw_13_bn (BatchNormaliz (None, 7, 7, 1024)        4096      \n",
      "_________________________________________________________________\n",
      "conv_dw_13_relu (ReLU)       (None, 7, 7, 1024)        0         \n",
      "_________________________________________________________________\n",
      "conv_pw_13 (Conv2D)          (None, 7, 7, 1024)        1048576   \n",
      "_________________________________________________________________\n",
      "conv_pw_13_bn (BatchNormaliz (None, 7, 7, 1024)        4096      \n",
      "_________________________________________________________________\n",
      "conv_pw_13_relu (ReLU)       (None, 7, 7, 1024)        0         \n",
      "_________________________________________________________________\n",
      "global_average_pooling2d (Gl (None, 1024)              0         \n",
      "_________________________________________________________________\n",
      "flatten (Flatten)            (None, 1024)              0         \n",
      "_________________________________________________________________\n",
      "dense (Dense)                (None, 1024)              1049600   \n",
      "_________________________________________________________________\n",
      "dropout (Dropout)            (None, 1024)              0         \n",
      "_________________________________________________________________\n",
      "dense_1 (Dense)              (None, 7)                 7175      \n",
      "=================================================================\n",
      "Total params: 4,285,639\n",
      "Trainable params: 4,263,751\n",
      "Non-trainable params: 21,888\n",
      "_________________________________________________________________\n"
     ]
    }
   ],
   "source": [
    "model.summary()"
   ]
  },
  {
   "cell_type": "code",
   "execution_count": 33,
   "id": "a92079e6",
   "metadata": {
    "_uuid": "a9d74e44630c3d07a596460c8fbfda3ae7cae1e9",
    "execution": {
     "iopub.execute_input": "2024-05-23T20:53:11.181107Z",
     "iopub.status.busy": "2024-05-23T20:53:11.180399Z",
     "iopub.status.idle": "2024-05-23T20:53:11.183203Z",
     "shell.execute_reply": "2024-05-23T20:53:11.182509Z",
     "shell.execute_reply.started": "2021-12-20T15:35:08.579927Z"
    },
    "papermill": {
     "duration": 0.094374,
     "end_time": "2024-05-23T20:53:11.183336",
     "exception": false,
     "start_time": "2024-05-23T20:53:11.088962",
     "status": "completed"
    },
    "tags": []
   },
   "outputs": [],
   "source": [
    "# We need to choose how many layers we actually want to be trained.\n",
    "# Here we are freezing the weights of all layers except the last 23 layers in the new model. The last 23 layers of the model will be trained.\n",
    "\n",
    "for layer in model.layers[:-23]:\n",
    "    layer.trainable = False"
   ]
  },
  {
   "cell_type": "markdown",
   "id": "ace743a0",
   "metadata": {
    "_uuid": "13cf63a53e5195cb8a9725d2506c71108bc478b9",
    "papermill": {
     "duration": 0.095059,
     "end_time": "2024-05-23T20:53:11.365158",
     "exception": false,
     "start_time": "2024-05-23T20:53:11.270099",
     "status": "completed"
    },
    "tags": []
   },
   "source": [
    "### Train the Model"
   ]
  },
  {
   "cell_type": "code",
   "execution_count": 34,
   "id": "b44c4015",
   "metadata": {
    "_uuid": "915f30a4f5ad369713bcb8e3bfa438219d6c8ef7",
    "execution": {
     "iopub.execute_input": "2024-05-23T20:53:11.547204Z",
     "iopub.status.busy": "2024-05-23T20:53:11.544505Z",
     "iopub.status.idle": "2024-05-23T20:53:11.549565Z",
     "shell.execute_reply": "2024-05-23T20:53:11.548974Z",
     "shell.execute_reply.started": "2021-12-20T15:35:08.58941Z"
    },
    "papermill": {
     "duration": 0.094467,
     "end_time": "2024-05-23T20:53:11.549702",
     "exception": false,
     "start_time": "2024-05-23T20:53:11.455235",
     "status": "completed"
    },
    "tags": []
   },
   "outputs": [],
   "source": [
    "# Define Top2 and Top3 Accuracy\n",
    "from tensorflow.keras.metrics import categorical_accuracy, top_k_categorical_accuracy\n",
    "\n",
    "def top_3_accuracy(y_true, y_pred):\n",
    "    return top_k_categorical_accuracy(y_true, y_pred, k=3)\n",
    "\n",
    "def top_2_accuracy(y_true, y_pred):\n",
    "    return top_k_categorical_accuracy(y_true, y_pred, k=2)"
   ]
  },
  {
   "cell_type": "code",
   "execution_count": 35,
   "id": "9ce2d5ae",
   "metadata": {
    "_uuid": "2013ff1abae70fed845af94e7ab3d95cefad0d61",
    "execution": {
     "iopub.execute_input": "2024-05-23T20:53:11.727560Z",
     "iopub.status.busy": "2024-05-23T20:53:11.725568Z",
     "iopub.status.idle": "2024-05-23T20:53:11.734490Z",
     "shell.execute_reply": "2024-05-23T20:53:11.733987Z",
     "shell.execute_reply.started": "2021-12-20T15:35:08.599669Z"
    },
    "papermill": {
     "duration": 0.100615,
     "end_time": "2024-05-23T20:53:11.734627",
     "exception": false,
     "start_time": "2024-05-23T20:53:11.634012",
     "status": "completed"
    },
    "tags": []
   },
   "outputs": [],
   "source": [
    "model.compile(Adam(learning_rate=0.01), loss='categorical_crossentropy', \n",
    "              metrics=[categorical_accuracy, top_2_accuracy, top_3_accuracy])"
   ]
  },
  {
   "cell_type": "code",
   "execution_count": 36,
   "id": "8f1af58b",
   "metadata": {
    "_uuid": "62e7a784a33d4c868f49a3ef1f9acbc7186e3338",
    "execution": {
     "iopub.execute_input": "2024-05-23T20:53:11.909570Z",
     "iopub.status.busy": "2024-05-23T20:53:11.908970Z",
     "iopub.status.idle": "2024-05-23T20:53:11.912340Z",
     "shell.execute_reply": "2024-05-23T20:53:11.911766Z",
     "shell.execute_reply.started": "2021-12-20T15:35:08.616934Z"
    },
    "papermill": {
     "duration": 0.092134,
     "end_time": "2024-05-23T20:53:11.912460",
     "exception": false,
     "start_time": "2024-05-23T20:53:11.820326",
     "status": "completed"
    },
    "tags": []
   },
   "outputs": [
    {
     "name": "stdout",
     "output_type": "stream",
     "text": [
      "{'akiec': 0, 'bcc': 1, 'bkl': 2, 'df': 3, 'mel': 4, 'nv': 5, 'vasc': 6}\n"
     ]
    }
   ],
   "source": [
    "# Get the labels that are associated with each index\n",
    "print(valid_batches.class_indices)"
   ]
  },
  {
   "cell_type": "code",
   "execution_count": 37,
   "id": "b43f22c0",
   "metadata": {
    "_uuid": "3001857c9a3c2b15c2343627e340eb1ae858fae9",
    "execution": {
     "iopub.execute_input": "2024-05-23T20:53:12.092238Z",
     "iopub.status.busy": "2024-05-23T20:53:12.091443Z",
     "iopub.status.idle": "2024-05-23T20:53:12.093443Z",
     "shell.execute_reply": "2024-05-23T20:53:12.093922Z",
     "shell.execute_reply.started": "2021-12-20T15:38:19.192679Z"
    },
    "papermill": {
     "duration": 0.093863,
     "end_time": "2024-05-23T20:53:12.094081",
     "exception": false,
     "start_time": "2024-05-23T20:53:12.000218",
     "status": "completed"
    },
    "tags": []
   },
   "outputs": [],
   "source": [
    "# Add weights to try to make the model more sensitive to melanoma\n",
    "class_weights={\n",
    "    0: 1.0, # akiec\n",
    "    1: 1.0, # bcc\n",
    "    2: 1.0, # bkl\n",
    "    3: 1.0, # df\n",
    "    4: 3.0, # mel    # Try to make the model more sensitive to Melanoma.\n",
    "    5: 1.0, # nv\n",
    "    6: 1.0, # vasc\n",
    "}"
   ]
  },
  {
   "cell_type": "code",
   "execution_count": 38,
   "id": "f8f0490d",
   "metadata": {
    "_kg_hide-output": true,
    "_uuid": "4a5e3bc3cf44f1d4326c34ad880a302ba082e9d5",
    "execution": {
     "iopub.execute_input": "2024-05-23T20:53:12.274461Z",
     "iopub.status.busy": "2024-05-23T20:53:12.273837Z",
     "iopub.status.idle": "2024-05-23T21:06:41.953713Z",
     "shell.execute_reply": "2024-05-23T21:06:41.953078Z",
     "shell.execute_reply.started": "2021-12-20T15:38:19.200628Z"
    },
    "papermill": {
     "duration": 809.773588,
     "end_time": "2024-05-23T21:06:41.953867",
     "exception": false,
     "start_time": "2024-05-23T20:53:12.180279",
     "status": "completed"
    },
    "tags": []
   },
   "outputs": [
    {
     "name": "stderr",
     "output_type": "stream",
     "text": [
      "/opt/conda/lib/python3.7/site-packages/keras/engine/training.py:1972: UserWarning: `Model.fit_generator` is deprecated and will be removed in a future version. Please use `Model.fit`, which supports generators.\n",
      "  warnings.warn('`Model.fit_generator` is deprecated and '\n"
     ]
    },
    {
     "name": "stdout",
     "output_type": "stream",
     "text": [
      "Epoch 1/20\n",
      "908/908 [==============================] - 49s 45ms/step - loss: 1.9704 - categorical_accuracy: 0.4432 - top_2_accuracy: 0.6369 - top_3_accuracy: 0.7771 - val_loss: 0.8651 - val_categorical_accuracy: 0.6780 - val_top_2_accuracy: 0.8795 - val_top_3_accuracy: 0.9552\n",
      "\n",
      "Epoch 00001: val_top_3_accuracy improved from -inf to 0.95522, saving model to model.h5\n",
      "Epoch 2/20\n",
      "908/908 [==============================] - 40s 44ms/step - loss: 1.3553 - categorical_accuracy: 0.5818 - top_2_accuracy: 0.7800 - top_3_accuracy: 0.8949 - val_loss: 0.6022 - val_categorical_accuracy: 0.8113 - val_top_2_accuracy: 0.8795 - val_top_3_accuracy: 0.9648\n",
      "\n",
      "Epoch 00002: val_top_3_accuracy improved from 0.95522 to 0.96482, saving model to model.h5\n",
      "Epoch 3/20\n",
      "908/908 [==============================] - 40s 44ms/step - loss: 1.2724 - categorical_accuracy: 0.6108 - top_2_accuracy: 0.7988 - top_3_accuracy: 0.9069 - val_loss: 31.0596 - val_categorical_accuracy: 0.0160 - val_top_2_accuracy: 0.1151 - val_top_3_accuracy: 0.3380\n",
      "\n",
      "Epoch 00003: val_top_3_accuracy did not improve from 0.96482\n",
      "Epoch 4/20\n",
      "908/908 [==============================] - 40s 44ms/step - loss: 1.2013 - categorical_accuracy: 0.6283 - top_2_accuracy: 0.8203 - top_3_accuracy: 0.9243 - val_loss: 86.1229 - val_categorical_accuracy: 0.0874 - val_top_2_accuracy: 0.1215 - val_top_3_accuracy: 0.3603\n",
      "\n",
      "Epoch 00004: val_top_3_accuracy did not improve from 0.96482\n",
      "\n",
      "Epoch 00004: ReduceLROnPlateau reducing learning rate to 0.004999999888241291.\n",
      "Epoch 5/20\n",
      "908/908 [==============================] - 39s 43ms/step - loss: 0.9949 - categorical_accuracy: 0.6803 - top_2_accuracy: 0.8629 - top_3_accuracy: 0.9545 - val_loss: 0.5438 - val_categorical_accuracy: 0.8198 - val_top_2_accuracy: 0.9168 - val_top_3_accuracy: 0.9723\n",
      "\n",
      "Epoch 00005: val_top_3_accuracy improved from 0.96482 to 0.97228, saving model to model.h5\n",
      "Epoch 6/20\n",
      "908/908 [==============================] - 39s 43ms/step - loss: 0.8783 - categorical_accuracy: 0.7187 - top_2_accuracy: 0.8846 - top_3_accuracy: 0.9623 - val_loss: 0.4677 - val_categorical_accuracy: 0.8401 - val_top_2_accuracy: 0.9190 - val_top_3_accuracy: 0.9691\n",
      "\n",
      "Epoch 00006: val_top_3_accuracy did not improve from 0.97228\n",
      "Epoch 7/20\n",
      "908/908 [==============================] - 39s 43ms/step - loss: 0.8434 - categorical_accuracy: 0.7407 - top_2_accuracy: 0.8982 - top_3_accuracy: 0.9702 - val_loss: 0.5610 - val_categorical_accuracy: 0.8326 - val_top_2_accuracy: 0.9147 - val_top_3_accuracy: 0.9723\n",
      "\n",
      "Epoch 00007: val_top_3_accuracy did not improve from 0.97228\n",
      "\n",
      "Epoch 00007: ReduceLROnPlateau reducing learning rate to 0.0024999999441206455.\n",
      "Epoch 8/20\n",
      "908/908 [==============================] - 39s 43ms/step - loss: 0.7135 - categorical_accuracy: 0.7820 - top_2_accuracy: 0.9172 - top_3_accuracy: 0.9758 - val_loss: 0.5046 - val_categorical_accuracy: 0.8134 - val_top_2_accuracy: 0.9371 - val_top_3_accuracy: 0.9765\n",
      "\n",
      "Epoch 00008: val_top_3_accuracy improved from 0.97228 to 0.97655, saving model to model.h5\n",
      "Epoch 9/20\n",
      "908/908 [==============================] - 40s 44ms/step - loss: 0.6601 - categorical_accuracy: 0.7909 - top_2_accuracy: 0.9315 - top_3_accuracy: 0.9858 - val_loss: 0.3584 - val_categorical_accuracy: 0.8934 - val_top_2_accuracy: 0.9520 - val_top_3_accuracy: 0.9797\n",
      "\n",
      "Epoch 00009: val_top_3_accuracy improved from 0.97655 to 0.97974, saving model to model.h5\n",
      "Epoch 10/20\n",
      "908/908 [==============================] - 40s 44ms/step - loss: 0.6052 - categorical_accuracy: 0.8067 - top_2_accuracy: 0.9425 - top_3_accuracy: 0.9870 - val_loss: 0.5249 - val_categorical_accuracy: 0.8305 - val_top_2_accuracy: 0.9424 - val_top_3_accuracy: 0.9787\n",
      "\n",
      "Epoch 00010: val_top_3_accuracy did not improve from 0.97974\n",
      "Epoch 11/20\n",
      "908/908 [==============================] - 40s 44ms/step - loss: 0.5782 - categorical_accuracy: 0.8193 - top_2_accuracy: 0.9434 - top_3_accuracy: 0.9865 - val_loss: 0.3859 - val_categorical_accuracy: 0.8753 - val_top_2_accuracy: 0.9595 - val_top_3_accuracy: 0.9808\n",
      "\n",
      "Epoch 00011: val_top_3_accuracy improved from 0.97974 to 0.98081, saving model to model.h5\n",
      "Epoch 12/20\n",
      "908/908 [==============================] - 40s 44ms/step - loss: 0.5374 - categorical_accuracy: 0.8359 - top_2_accuracy: 0.9522 - top_3_accuracy: 0.9880 - val_loss: 0.4072 - val_categorical_accuracy: 0.8859 - val_top_2_accuracy: 0.9488 - val_top_3_accuracy: 0.9787\n",
      "\n",
      "Epoch 00012: val_top_3_accuracy did not improve from 0.98081\n",
      "Epoch 13/20\n",
      "908/908 [==============================] - 40s 44ms/step - loss: 0.5297 - categorical_accuracy: 0.8347 - top_2_accuracy: 0.9525 - top_3_accuracy: 0.9904 - val_loss: 0.4078 - val_categorical_accuracy: 0.8710 - val_top_2_accuracy: 0.9510 - val_top_3_accuracy: 0.9861\n",
      "\n",
      "Epoch 00013: val_top_3_accuracy improved from 0.98081 to 0.98614, saving model to model.h5\n",
      "Epoch 14/20\n",
      "908/908 [==============================] - 40s 44ms/step - loss: 0.5052 - categorical_accuracy: 0.8439 - top_2_accuracy: 0.9583 - top_3_accuracy: 0.9922 - val_loss: 0.4413 - val_categorical_accuracy: 0.8806 - val_top_2_accuracy: 0.9542 - val_top_3_accuracy: 0.9829\n",
      "\n",
      "Epoch 00014: val_top_3_accuracy did not improve from 0.98614\n",
      "Epoch 15/20\n",
      "908/908 [==============================] - 40s 44ms/step - loss: 0.4726 - categorical_accuracy: 0.8530 - top_2_accuracy: 0.9611 - top_3_accuracy: 0.9904 - val_loss: 0.7303 - val_categorical_accuracy: 0.8156 - val_top_2_accuracy: 0.9200 - val_top_3_accuracy: 0.9744\n",
      "\n",
      "Epoch 00015: val_top_3_accuracy did not improve from 0.98614\n",
      "\n",
      "Epoch 00015: ReduceLROnPlateau reducing learning rate to 0.0012499999720603228.\n",
      "Epoch 16/20\n",
      "908/908 [==============================] - 39s 43ms/step - loss: 0.4022 - categorical_accuracy: 0.8728 - top_2_accuracy: 0.9685 - top_3_accuracy: 0.9943 - val_loss: 0.3868 - val_categorical_accuracy: 0.8838 - val_top_2_accuracy: 0.9574 - val_top_3_accuracy: 0.9808\n",
      "\n",
      "Epoch 00016: val_top_3_accuracy did not improve from 0.98614\n",
      "Epoch 17/20\n",
      "908/908 [==============================] - 39s 43ms/step - loss: 0.3721 - categorical_accuracy: 0.8840 - top_2_accuracy: 0.9754 - top_3_accuracy: 0.9963 - val_loss: 0.4754 - val_categorical_accuracy: 0.8614 - val_top_2_accuracy: 0.9456 - val_top_3_accuracy: 0.9808\n",
      "\n",
      "Epoch 00017: val_top_3_accuracy did not improve from 0.98614\n",
      "\n",
      "Epoch 00017: ReduceLROnPlateau reducing learning rate to 0.0006249999860301614.\n",
      "Epoch 18/20\n",
      "908/908 [==============================] - 39s 43ms/step - loss: 0.3369 - categorical_accuracy: 0.8941 - top_2_accuracy: 0.9761 - top_3_accuracy: 0.9952 - val_loss: 0.3810 - val_categorical_accuracy: 0.8881 - val_top_2_accuracy: 0.9616 - val_top_3_accuracy: 0.9829\n",
      "\n",
      "Epoch 00018: val_top_3_accuracy did not improve from 0.98614\n",
      "Epoch 19/20\n",
      "908/908 [==============================] - 39s 43ms/step - loss: 0.3177 - categorical_accuracy: 0.9025 - top_2_accuracy: 0.9790 - top_3_accuracy: 0.9964 - val_loss: 0.3628 - val_categorical_accuracy: 0.8870 - val_top_2_accuracy: 0.9627 - val_top_3_accuracy: 0.9861\n",
      "\n",
      "Epoch 00019: val_top_3_accuracy did not improve from 0.98614\n",
      "\n",
      "Epoch 00019: ReduceLROnPlateau reducing learning rate to 0.0003124999930150807.\n",
      "Epoch 20/20\n",
      "908/908 [==============================] - 40s 45ms/step - loss: 0.2905 - categorical_accuracy: 0.9068 - top_2_accuracy: 0.9812 - top_3_accuracy: 0.9981 - val_loss: 0.3705 - val_categorical_accuracy: 0.8902 - val_top_2_accuracy: 0.9616 - val_top_3_accuracy: 0.9851\n",
      "\n",
      "Epoch 00020: val_top_3_accuracy did not improve from 0.98614\n"
     ]
    }
   ],
   "source": [
    "\n",
    "filepath = \"model.h5\"\n",
    "checkpoint = ModelCheckpoint(filepath, monitor='val_top_3_accuracy', verbose=1, \n",
    "                             save_best_only=True, mode='max')\n",
    "\n",
    "reduce_lr = ReduceLROnPlateau(monitor='val_top_3_accuracy', factor=0.5, patience=2, \n",
    "                                   verbose=1, mode='max', min_lr=0.00001)\n",
    "                              \n",
    "callbacks_list = [checkpoint, reduce_lr]\n",
    "\n",
    "history = model.fit_generator(train_batches, steps_per_epoch=train_steps, \n",
    "                              class_weight=class_weights,\n",
    "                    validation_data=valid_batches,\n",
    "                    validation_steps=val_steps,\n",
    "                    epochs=20, verbose=1,\n",
    "                   callbacks=callbacks_list)\n"
   ]
  },
  {
   "cell_type": "markdown",
   "id": "725f72e8",
   "metadata": {
    "_uuid": "c3e43e3f2943db4be9d75831fe23661ae9deb44b",
    "papermill": {
     "duration": 3.043976,
     "end_time": "2024-05-23T21:06:48.083722",
     "exception": false,
     "start_time": "2024-05-23T21:06:45.039746",
     "status": "completed"
    },
    "tags": []
   },
   "source": [
    "### Evaluate the model using the val set"
   ]
  },
  {
   "cell_type": "code",
   "execution_count": 39,
   "id": "6429363a",
   "metadata": {
    "_uuid": "710ee26097924153647ac432c8ade29383fe42f1",
    "execution": {
     "iopub.execute_input": "2024-05-23T21:06:54.257670Z",
     "iopub.status.busy": "2024-05-23T21:06:54.256882Z",
     "iopub.status.idle": "2024-05-23T21:06:54.259752Z",
     "shell.execute_reply": "2024-05-23T21:06:54.260236Z",
     "shell.execute_reply.started": "2021-12-20T16:02:18.543964Z"
    },
    "papermill": {
     "duration": 3.108607,
     "end_time": "2024-05-23T21:06:54.260393",
     "exception": false,
     "start_time": "2024-05-23T21:06:51.151786",
     "status": "completed"
    },
    "tags": []
   },
   "outputs": [
    {
     "data": {
      "text/plain": [
       "['loss', 'categorical_accuracy', 'top_2_accuracy', 'top_3_accuracy']"
      ]
     },
     "execution_count": 39,
     "metadata": {},
     "output_type": "execute_result"
    }
   ],
   "source": [
    "# get the metric names so we can use evaulate_generator\n",
    "model.metrics_names"
   ]
  },
  {
   "cell_type": "code",
   "execution_count": 40,
   "id": "9fc72ada",
   "metadata": {
    "_uuid": "68603a5e8cb5e507db95074a07b552a61fa48e11",
    "execution": {
     "iopub.execute_input": "2024-05-23T21:07:00.418502Z",
     "iopub.status.busy": "2024-05-23T21:07:00.417854Z",
     "iopub.status.idle": "2024-05-23T21:07:09.757458Z",
     "shell.execute_reply": "2024-05-23T21:07:09.758586Z",
     "shell.execute_reply.started": "2021-12-20T16:02:18.552516Z"
    },
    "papermill": {
     "duration": 12.41552,
     "end_time": "2024-05-23T21:07:09.758809",
     "exception": false,
     "start_time": "2024-05-23T21:06:57.343289",
     "status": "completed"
    },
    "tags": []
   },
   "outputs": [
    {
     "name": "stderr",
     "output_type": "stream",
     "text": [
      "/opt/conda/lib/python3.7/site-packages/keras/engine/training.py:2006: UserWarning: `Model.evaluate_generator` is deprecated and will be removed in a future version. Please use `Model.evaluate`, which supports generators.\n",
      "  warnings.warn('`Model.evaluate_generator` is deprecated and '\n"
     ]
    },
    {
     "name": "stdout",
     "output_type": "stream",
     "text": [
      "val_loss: 0.3705112040042877\n",
      "val_cat_acc: 0.890191912651062\n",
      "val_top_2_acc: 0.9616204500198364\n",
      "val_top_3_acc: 0.9850746393203735\n"
     ]
    }
   ],
   "source": [
    "# Here the the last epoch will be used.\n",
    "val_loss, val_cat_acc, val_top_2_acc, val_top_3_acc = \\\n",
    "model.evaluate_generator(test_batches, \n",
    "                        steps=len(df_val))\n",
    "\n",
    "print('val_loss:', val_loss)\n",
    "print('val_cat_acc:', val_cat_acc)\n",
    "print('val_top_2_acc:', val_top_2_acc)\n",
    "print('val_top_3_acc:', val_top_3_acc)"
   ]
  },
  {
   "cell_type": "code",
   "execution_count": 41,
   "id": "a5e836f3",
   "metadata": {
    "_uuid": "897f066da922d81fefa165a6b911a741c52ef7f5",
    "execution": {
     "iopub.execute_input": "2024-05-23T21:07:15.840456Z",
     "iopub.status.busy": "2024-05-23T21:07:15.839286Z",
     "iopub.status.idle": "2024-05-23T21:07:25.275058Z",
     "shell.execute_reply": "2024-05-23T21:07:25.275643Z",
     "shell.execute_reply.started": "2021-12-20T16:02:28.967316Z"
    },
    "papermill": {
     "duration": 12.492402,
     "end_time": "2024-05-23T21:07:25.275839",
     "exception": false,
     "start_time": "2024-05-23T21:07:12.783437",
     "status": "completed"
    },
    "tags": []
   },
   "outputs": [
    {
     "name": "stdout",
     "output_type": "stream",
     "text": [
      "val_loss: 0.4077847898006439\n",
      "val_cat_acc: 0.8710021376609802\n",
      "val_top_2_acc: 0.9509595036506653\n",
      "val_top_3_acc: 0.9861407279968262\n"
     ]
    }
   ],
   "source": [
    "# Here the best epoch will be used.\n",
    "model.load_weights('model.h5')\n",
    "\n",
    "val_loss, val_cat_acc, val_top_2_acc, val_top_3_acc = model.evaluate_generator(test_batches, steps=len(df_val))\n",
    "\n",
    "print('val_loss:', val_loss)\n",
    "print('val_cat_acc:', val_cat_acc)\n",
    "print('val_top_2_acc:', val_top_2_acc)\n",
    "print('val_top_3_acc:', val_top_3_acc)"
   ]
  },
  {
   "cell_type": "markdown",
   "id": "83b993df",
   "metadata": {
    "_uuid": "c3fffba5e0aa9088cda1865c7b8d75d72c20d0f6",
    "papermill": {
     "duration": 3.088511,
     "end_time": "2024-05-23T21:07:31.537997",
     "exception": false,
     "start_time": "2024-05-23T21:07:28.449486",
     "status": "completed"
    },
    "tags": []
   },
   "source": [
    "### Plot the Training Curves"
   ]
  },
  {
   "cell_type": "code",
   "execution_count": 42,
   "id": "f4a555ca",
   "metadata": {
    "_uuid": "0cbd11ef4286a751ef2918361af035d356f341ae",
    "execution": {
     "iopub.execute_input": "2024-05-23T21:07:37.771485Z",
     "iopub.status.busy": "2024-05-23T21:07:37.755056Z",
     "iopub.status.idle": "2024-05-23T21:07:38.605939Z",
     "shell.execute_reply": "2024-05-23T21:07:38.606427Z",
     "shell.execute_reply.started": "2021-12-20T16:02:39.317599Z"
    },
    "papermill": {
     "duration": 3.934492,
     "end_time": "2024-05-23T21:07:38.606625",
     "exception": false,
     "start_time": "2024-05-23T21:07:34.672133",
     "status": "completed"
    },
    "tags": []
   },
   "outputs": [
    {
     "data": {
      "image/png": "[encoded data removed]",
      "text/plain": [
       "<Figure size 432x288 with 1 Axes>"
      ]
     },
     "metadata": {
      "needs_background": "light"
     },
     "output_type": "display_data"
    },
    {
     "data": {
      "image/png": "[encoded data removed]",
      "text/plain": [
       "<Figure size 432x288 with 1 Axes>"
      ]
     },
     "metadata": {
      "needs_background": "light"
     },
     "output_type": "display_data"
    },
    {
     "data": {
      "image/png": "[encoded data removed]",
      "text/plain": [
       "<Figure size 432x288 with 1 Axes>"
      ]
     },
     "metadata": {
      "needs_background": "light"
     },
     "output_type": "display_data"
    },
    {
     "data": {
      "image/png": "[encoded data removed]",
      "text/plain": [
       "<Figure size 432x288 with 1 Axes>"
      ]
     },
     "metadata": {
      "needs_background": "light"
     },
     "output_type": "display_data"
    }
   ],
   "source": [
    "# display the loss and accuracy curves\n",
    "\n",
    "import matplotlib.pyplot as plt\n",
    "\n",
    "acc = history.history['categorical_accuracy']\n",
    "val_acc = history.history['val_categorical_accuracy']\n",
    "loss = history.history['loss']\n",
    "val_loss = history.history['val_loss']\n",
    "train_top2_acc = history.history['top_2_accuracy']\n",
    "val_top2_acc = history.history['val_top_2_accuracy']\n",
    "train_top3_acc = history.history['top_3_accuracy']\n",
    "val_top3_acc = history.history['val_top_3_accuracy']\n",
    "epochs = range(1, len(acc) + 1)\n",
    "\n",
    "plt.plot(epochs, loss, 'bo', label='Training loss')\n",
    "plt.plot(epochs, val_loss, 'b', label='Validation loss')\n",
    "plt.title('Training and validation loss')\n",
    "plt.legend()\n",
    "plt.figure()\n",
    "\n",
    "plt.plot(epochs, acc, 'bo', label='Training cat acc')\n",
    "plt.plot(epochs, val_acc, 'b', label='Validation cat acc')\n",
    "plt.title('Training and validation cat accuracy')\n",
    "plt.legend()\n",
    "plt.figure()\n",
    "\n",
    "\n",
    "plt.plot(epochs, train_top2_acc, 'bo', label='Training top2 acc')\n",
    "plt.plot(epochs, val_top2_acc, 'b', label='Validation top2 acc')\n",
    "plt.title('Training and validation top2 accuracy')\n",
    "plt.legend()\n",
    "plt.figure()\n",
    "plt.plot(epochs, train_top3_acc, 'bo', label='Training top3 acc')\n",
    "plt.plot(epochs, val_top3_acc, 'b', label='Validation top3 acc')\n",
    "plt.title('Training and validation top3 accuracy')\n",
    "plt.legend()\n",
    "\n",
    "\n",
    "plt.show()"
   ]
  },
  {
   "cell_type": "markdown",
   "id": "37c6bfb7",
   "metadata": {
    "_uuid": "4204e4056c8d12c1fee72b97912879cad4ee483f",
    "papermill": {
     "duration": 3.089456,
     "end_time": "2024-05-23T21:07:44.748885",
     "exception": false,
     "start_time": "2024-05-23T21:07:41.659429",
     "status": "completed"
    },
    "tags": []
   },
   "source": [
    "### Create a Confusion Matrix"
   ]
  },
  {
   "cell_type": "code",
   "execution_count": 43,
   "id": "19d92157",
   "metadata": {
    "_uuid": "74a66905f7a2d702f3d2aad9abf9fe114b96f0ff",
    "execution": {
     "iopub.execute_input": "2024-05-23T21:07:51.194420Z",
     "iopub.status.busy": "2024-05-23T21:07:51.193714Z",
     "iopub.status.idle": "2024-05-23T21:07:51.196737Z",
     "shell.execute_reply": "2024-05-23T21:07:51.196098Z",
     "shell.execute_reply.started": "2021-12-20T16:02:40.113498Z"
    },
    "papermill": {
     "duration": 3.312356,
     "end_time": "2024-05-23T21:07:51.196889",
     "exception": false,
     "start_time": "2024-05-23T21:07:47.884533",
     "status": "completed"
    },
    "tags": []
   },
   "outputs": [],
   "source": [
    "# Get the labels of the test images.\n",
    "# Note that cats and dogs are in seperate folders therefore\n",
    "# the code below can get the labels depending on the folder the image is in.\n",
    "\n",
    "test_labels = test_batches.classes"
   ]
  },
  {
   "cell_type": "code",
   "execution_count": 44,
   "id": "8ed7f9cb",
   "metadata": {
    "_kg_hide-output": true,
    "_uuid": "53f4b22617285e923f336cdb2ffcbe1f9ff5e5db",
    "execution": {
     "iopub.execute_input": "2024-05-23T21:07:57.525734Z",
     "iopub.status.busy": "2024-05-23T21:07:57.524874Z",
     "iopub.status.idle": "2024-05-23T21:07:57.528446Z",
     "shell.execute_reply": "2024-05-23T21:07:57.529224Z",
     "shell.execute_reply.started": "2021-12-20T16:02:40.119346Z"
    },
    "papermill": {
     "duration": 3.233137,
     "end_time": "2024-05-23T21:07:57.529422",
     "exception": false,
     "start_time": "2024-05-23T21:07:54.296285",
     "status": "completed"
    },
    "tags": []
   },
   "outputs": [
    {
     "data": {
      "text/plain": [
       "array([0, 0, 0, 0, 0, 0, 0, 0, 0, 0, 0, 0, 0, 0, 0, 0, 0, 0, 0, 0, 0, 0,\n",
       "       0, 0, 0, 0, 1, 1, 1, 1, 1, 1, 1, 1, 1, 1, 1, 1, 1, 1, 1, 1, 1, 1,\n",
       "       1, 1, 1, 1, 1, 1, 1, 1, 1, 1, 1, 1, 2, 2, 2, 2, 2, 2, 2, 2, 2, 2,\n",
       "       2, 2, 2, 2, 2, 2, 2, 2, 2, 2, 2, 2, 2, 2, 2, 2, 2, 2, 2, 2, 2, 2,\n",
       "       2, 2, 2, 2, 2, 2, 2, 2, 2, 2, 2, 2, 2, 2, 2, 2, 2, 2, 2, 2, 2, 2,\n",
       "       2, 2, 2, 2, 2, 2, 2, 2, 2, 2, 2, 2, 2, 2, 2, 2, 2, 2, 2, 2, 2, 3,\n",
       "       3, 3, 3, 3, 3, 4, 4, 4, 4, 4, 4, 4, 4, 4, 4, 4, 4, 4, 4, 4, 4, 4,\n",
       "       4, 4, 4, 4, 4, 4, 4, 4, 4, 4, 4, 4, 4, 4, 4, 4, 4, 4, 4, 4, 4, 4,\n",
       "       5, 5, 5, 5, 5, 5, 5, 5, 5, 5, 5, 5, 5, 5, 5, 5, 5, 5, 5, 5, 5, 5,\n",
       "       5, 5, 5, 5, 5, 5, 5, 5, 5, 5, 5, 5, 5, 5, 5, 5, 5, 5, 5, 5, 5, 5,\n",
       "       5, 5, 5, 5, 5, 5, 5, 5, 5, 5, 5, 5, 5, 5, 5, 5, 5, 5, 5, 5, 5, 5,\n",
       "       5, 5, 5, 5, 5, 5, 5, 5, 5, 5, 5, 5, 5, 5, 5, 5, 5, 5, 5, 5, 5, 5,\n",
       "       5, 5, 5, 5, 5, 5, 5, 5, 5, 5, 5, 5, 5, 5, 5, 5, 5, 5, 5, 5, 5, 5,\n",
       "       5, 5, 5, 5, 5, 5, 5, 5, 5, 5, 5, 5, 5, 5, 5, 5, 5, 5, 5, 5, 5, 5,\n",
       "       5, 5, 5, 5, 5, 5, 5, 5, 5, 5, 5, 5, 5, 5, 5, 5, 5, 5, 5, 5, 5, 5,\n",
       "       5, 5, 5, 5, 5, 5, 5, 5, 5, 5, 5, 5, 5, 5, 5, 5, 5, 5, 5, 5, 5, 5,\n",
       "       5, 5, 5, 5, 5, 5, 5, 5, 5, 5, 5, 5, 5, 5, 5, 5, 5, 5, 5, 5, 5, 5,\n",
       "       5, 5, 5, 5, 5, 5, 5, 5, 5, 5, 5, 5, 5, 5, 5, 5, 5, 5, 5, 5, 5, 5,\n",
       "       5, 5, 5, 5, 5, 5, 5, 5, 5, 5, 5, 5, 5, 5, 5, 5, 5, 5, 5, 5, 5, 5,\n",
       "       5, 5, 5, 5, 5, 5, 5, 5, 5, 5, 5, 5, 5, 5, 5, 5, 5, 5, 5, 5, 5, 5,\n",
       "       5, 5, 5, 5, 5, 5, 5, 5, 5, 5, 5, 5, 5, 5, 5, 5, 5, 5, 5, 5, 5, 5,\n",
       "       5, 5, 5, 5, 5, 5, 5, 5, 5, 5, 5, 5, 5, 5, 5, 5, 5, 5, 5, 5, 5, 5,\n",
       "       5, 5, 5, 5, 5, 5, 5, 5, 5, 5, 5, 5, 5, 5, 5, 5, 5, 5, 5, 5, 5, 5,\n",
       "       5, 5, 5, 5, 5, 5, 5, 5, 5, 5, 5, 5, 5, 5, 5, 5, 5, 5, 5, 5, 5, 5,\n",
       "       5, 5, 5, 5, 5, 5, 5, 5, 5, 5, 5, 5, 5, 5, 5, 5, 5, 5, 5, 5, 5, 5,\n",
       "       5, 5, 5, 5, 5, 5, 5, 5, 5, 5, 5, 5, 5, 5, 5, 5, 5, 5, 5, 5, 5, 5,\n",
       "       5, 5, 5, 5, 5, 5, 5, 5, 5, 5, 5, 5, 5, 5, 5, 5, 5, 5, 5, 5, 5, 5,\n",
       "       5, 5, 5, 5, 5, 5, 5, 5, 5, 5, 5, 5, 5, 5, 5, 5, 5, 5, 5, 5, 5, 5,\n",
       "       5, 5, 5, 5, 5, 5, 5, 5, 5, 5, 5, 5, 5, 5, 5, 5, 5, 5, 5, 5, 5, 5,\n",
       "       5, 5, 5, 5, 5, 5, 5, 5, 5, 5, 5, 5, 5, 5, 5, 5, 5, 5, 5, 5, 5, 5,\n",
       "       5, 5, 5, 5, 5, 5, 5, 5, 5, 5, 5, 5, 5, 5, 5, 5, 5, 5, 5, 5, 5, 5,\n",
       "       5, 5, 5, 5, 5, 5, 5, 5, 5, 5, 5, 5, 5, 5, 5, 5, 5, 5, 5, 5, 5, 5,\n",
       "       5, 5, 5, 5, 5, 5, 5, 5, 5, 5, 5, 5, 5, 5, 5, 5, 5, 5, 5, 5, 5, 5,\n",
       "       5, 5, 5, 5, 5, 5, 5, 5, 5, 5, 5, 5, 5, 5, 5, 5, 5, 5, 5, 5, 5, 5,\n",
       "       5, 5, 5, 5, 5, 5, 5, 5, 5, 5, 5, 5, 5, 5, 5, 5, 5, 5, 5, 5, 5, 5,\n",
       "       5, 5, 5, 5, 5, 5, 5, 5, 5, 5, 5, 5, 5, 5, 5, 5, 5, 5, 5, 5, 5, 5,\n",
       "       5, 5, 5, 5, 5, 5, 5, 5, 5, 5, 5, 5, 5, 5, 5, 5, 5, 5, 5, 5, 5, 5,\n",
       "       5, 5, 5, 5, 5, 5, 5, 5, 5, 5, 5, 5, 5, 5, 5, 5, 5, 5, 5, 5, 5, 5,\n",
       "       5, 5, 5, 5, 5, 5, 5, 5, 5, 5, 5, 5, 5, 5, 5, 5, 5, 5, 5, 5, 5, 5,\n",
       "       5, 5, 5, 5, 5, 5, 5, 5, 5, 5, 5, 5, 5, 5, 5, 5, 5, 5, 5, 5, 5, 5,\n",
       "       5, 5, 5, 5, 5, 5, 5, 5, 5, 5, 5, 5, 5, 5, 5, 5, 5, 5, 5, 5, 5, 5,\n",
       "       5, 5, 5, 5, 5, 5, 5, 5, 5, 5, 5, 5, 5, 5, 5, 5, 5, 5, 5, 5, 5, 5,\n",
       "       5, 5, 5, 6, 6, 6, 6, 6, 6, 6, 6, 6, 6, 6], dtype=int32)"
      ]
     },
     "execution_count": 44,
     "metadata": {},
     "output_type": "execute_result"
    }
   ],
   "source": [
    "# We need these to plot the confusion matrix.\n",
    "test_labels"
   ]
  },
  {
   "cell_type": "code",
   "execution_count": 45,
   "id": "dfbcbcad",
   "metadata": {
    "_uuid": "d5113e039e8384b96595751e084f0c5ed677080a",
    "execution": {
     "iopub.execute_input": "2024-05-23T21:08:03.621910Z",
     "iopub.status.busy": "2024-05-23T21:08:03.621195Z",
     "iopub.status.idle": "2024-05-23T21:08:03.624646Z",
     "shell.execute_reply": "2024-05-23T21:08:03.624027Z",
     "shell.execute_reply.started": "2021-12-20T16:02:40.138139Z"
    },
    "papermill": {
     "duration": 3.020566,
     "end_time": "2024-05-23T21:08:03.624801",
     "exception": false,
     "start_time": "2024-05-23T21:08:00.604235",
     "status": "completed"
    },
    "tags": []
   },
   "outputs": [
    {
     "data": {
      "text/plain": [
       "{'akiec': 0, 'bcc': 1, 'bkl': 2, 'df': 3, 'mel': 4, 'nv': 5, 'vasc': 6}"
      ]
     },
     "execution_count": 45,
     "metadata": {},
     "output_type": "execute_result"
    }
   ],
   "source": [
    "# Print the label associated with each class\n",
    "test_batches.class_indices"
   ]
  },
  {
   "cell_type": "code",
   "execution_count": 46,
   "id": "d62fe7d9",
   "metadata": {
    "_uuid": "701dafc5874aa60a054a74c04170cb7e8d750e94",
    "execution": {
     "iopub.execute_input": "2024-05-23T21:08:10.001090Z",
     "iopub.status.busy": "2024-05-23T21:08:10.000370Z",
     "iopub.status.idle": "2024-05-23T21:08:19.956164Z",
     "shell.execute_reply": "2024-05-23T21:08:19.956672Z",
     "shell.execute_reply.started": "2021-12-20T16:02:40.147069Z"
    },
    "papermill": {
     "duration": 13.196104,
     "end_time": "2024-05-23T21:08:19.956869",
     "exception": false,
     "start_time": "2024-05-23T21:08:06.760765",
     "status": "completed"
    },
    "tags": []
   },
   "outputs": [
    {
     "name": "stderr",
     "output_type": "stream",
     "text": [
      "/opt/conda/lib/python3.7/site-packages/keras/engine/training.py:2035: UserWarning: `Model.predict_generator` is deprecated and will be removed in a future version. Please use `Model.predict`, which supports generators.\n",
      "  warnings.warn('`Model.predict_generator` is deprecated and '\n"
     ]
    },
    {
     "name": "stdout",
     "output_type": "stream",
     "text": [
      "938/938 [==============================] - 10s 10ms/step\n"
     ]
    }
   ],
   "source": [
    "# make a prediction\n",
    "predictions = model.predict_generator(test_batches, steps=len(df_val), verbose=1)"
   ]
  },
  {
   "cell_type": "code",
   "execution_count": 47,
   "id": "003bc2dc",
   "metadata": {
    "_uuid": "dcce17ac0488ff90d29b11592c9226ed1bb210fb",
    "execution": {
     "iopub.execute_input": "2024-05-23T21:08:26.376170Z",
     "iopub.status.busy": "2024-05-23T21:08:26.375444Z",
     "iopub.status.idle": "2024-05-23T21:08:26.379218Z",
     "shell.execute_reply": "2024-05-23T21:08:26.378628Z",
     "shell.execute_reply.started": "2021-12-20T16:02:51.343738Z"
    },
    "papermill": {
     "duration": 3.208353,
     "end_time": "2024-05-23T21:08:26.379359",
     "exception": false,
     "start_time": "2024-05-23T21:08:23.171006",
     "status": "completed"
    },
    "tags": []
   },
   "outputs": [
    {
     "data": {
      "text/plain": [
       "(938, 7)"
      ]
     },
     "execution_count": 47,
     "metadata": {},
     "output_type": "execute_result"
    }
   ],
   "source": [
    "predictions.shape"
   ]
  },
  {
   "cell_type": "code",
   "execution_count": 48,
   "id": "74b9d442",
   "metadata": {
    "_uuid": "7cfd9bdbbd27e27d9c5de7c6593527686445ea89",
    "execution": {
     "iopub.execute_input": "2024-05-23T21:08:32.693663Z",
     "iopub.status.busy": "2024-05-23T21:08:32.692987Z",
     "iopub.status.idle": "2024-05-23T21:08:32.695806Z",
     "shell.execute_reply": "2024-05-23T21:08:32.695217Z",
     "shell.execute_reply.started": "2021-12-20T16:02:51.351599Z"
    },
    "papermill": {
     "duration": 3.18745,
     "end_time": "2024-05-23T21:08:32.695956",
     "exception": false,
     "start_time": "2024-05-23T21:08:29.508506",
     "status": "completed"
    },
    "tags": []
   },
   "outputs": [],
   "source": [
    "# Source: Scikit Learn website\n",
    "# http://scikit-learn.org/stable/auto_examples/\n",
    "# model_selection/plot_confusion_matrix.html#sphx-glr-auto-examples-model-\n",
    "# selection-plot-confusion-matrix-py\n",
    "\n",
    "def plot_confusion_matrix(cm, classes,\n",
    "                          normalize=False,\n",
    "                          title='Confusion matrix',\n",
    "                          cmap=plt.cm.Blues):\n",
    "    \"\"\"\n",
    "    This function prints and plots the confusion matrix.\n",
    "    Normalization can be applied by setting `normalize=True`.\n",
    "    \"\"\"\n",
    "    if normalize:\n",
    "        cm = cm.astype('float') / cm.sum(axis=1)[:, np.newaxis]\n",
    "        print(\"Normalized confusion matrix\")\n",
    "    else:\n",
    "        print('Confusion matrix, without normalization')\n",
    "\n",
    "    print(cm)\n",
    "\n",
    "    plt.imshow(cm, interpolation='nearest', cmap=cmap)\n",
    "    plt.title(title)\n",
    "    plt.colorbar()\n",
    "    tick_marks = np.arange(len(classes))\n",
    "    plt.xticks(tick_marks, classes, rotation=45)\n",
    "    plt.yticks(tick_marks, classes)\n",
    "\n",
    "    fmt = '.2f' if normalize else 'd'\n",
    "    thresh = cm.max() / 2.\n",
    "    for i, j in itertools.product(range(cm.shape[0]), range(cm.shape[1])):\n",
    "        plt.text(j, i, format(cm[i, j], fmt),\n",
    "                 horizontalalignment=\"center\",\n",
    "                 color=\"white\" if cm[i, j] > thresh else \"black\")\n",
    "\n",
    "    plt.ylabel('True label')\n",
    "    plt.xlabel('Predicted label')\n",
    "    plt.tight_layout()"
   ]
  },
  {
   "cell_type": "code",
   "execution_count": 49,
   "id": "208b9bc6",
   "metadata": {
    "_uuid": "8d499136cdb5fdf356515beb6e0cd1130ed584db",
    "execution": {
     "iopub.execute_input": "2024-05-23T21:08:38.971278Z",
     "iopub.status.busy": "2024-05-23T21:08:38.970344Z",
     "iopub.status.idle": "2024-05-23T21:08:38.973636Z",
     "shell.execute_reply": "2024-05-23T21:08:38.974215Z",
     "shell.execute_reply.started": "2021-12-20T16:02:51.36448Z"
    },
    "papermill": {
     "duration": 3.133137,
     "end_time": "2024-05-23T21:08:38.974396",
     "exception": false,
     "start_time": "2024-05-23T21:08:35.841259",
     "status": "completed"
    },
    "tags": []
   },
   "outputs": [
    {
     "data": {
      "text/plain": [
       "(938,)"
      ]
     },
     "execution_count": 49,
     "metadata": {},
     "output_type": "execute_result"
    }
   ],
   "source": [
    "test_labels.shape"
   ]
  },
  {
   "cell_type": "code",
   "execution_count": 50,
   "id": "280c25be",
   "metadata": {
    "_uuid": "940b71bb2b37d847ba81dd67ca50c7fd5785fd35",
    "execution": {
     "iopub.execute_input": "2024-05-23T21:08:45.218010Z",
     "iopub.status.busy": "2024-05-23T21:08:45.217353Z",
     "iopub.status.idle": "2024-05-23T21:08:45.224392Z",
     "shell.execute_reply": "2024-05-23T21:08:45.223890Z",
     "shell.execute_reply.started": "2021-12-20T16:02:51.37656Z"
    },
    "papermill": {
     "duration": 3.088025,
     "end_time": "2024-05-23T21:08:45.224521",
     "exception": false,
     "start_time": "2024-05-23T21:08:42.136496",
     "status": "completed"
    },
    "tags": []
   },
   "outputs": [],
   "source": [
    "# argmax returns the index of the max value in a row\n",
    "cm = confusion_matrix(test_labels, predictions.argmax(axis=1))"
   ]
  },
  {
   "cell_type": "code",
   "execution_count": 51,
   "id": "c0bf1397",
   "metadata": {
    "_uuid": "97c6b493c368ff6565782c1bb15827f5d349ef79",
    "execution": {
     "iopub.execute_input": "2024-05-23T21:08:51.506560Z",
     "iopub.status.busy": "2024-05-23T21:08:51.505774Z",
     "iopub.status.idle": "2024-05-23T21:08:51.509355Z",
     "shell.execute_reply": "2024-05-23T21:08:51.508872Z",
     "shell.execute_reply.started": "2021-12-20T16:02:51.39025Z"
    },
    "papermill": {
     "duration": 3.088421,
     "end_time": "2024-05-23T21:08:51.509489",
     "exception": false,
     "start_time": "2024-05-23T21:08:48.421068",
     "status": "completed"
    },
    "tags": []
   },
   "outputs": [
    {
     "data": {
      "text/plain": [
       "{'akiec': 0, 'bcc': 1, 'bkl': 2, 'df': 3, 'mel': 4, 'nv': 5, 'vasc': 6}"
      ]
     },
     "execution_count": 51,
     "metadata": {},
     "output_type": "execute_result"
    }
   ],
   "source": [
    "test_batches.class_indices"
   ]
  },
  {
   "cell_type": "code",
   "execution_count": 52,
   "id": "92ca23a7",
   "metadata": {
    "_uuid": "0ddbd33a93468075c64ba49188a6d272a5c7828f",
    "execution": {
     "iopub.execute_input": "2024-05-23T21:08:57.809297Z",
     "iopub.status.busy": "2024-05-23T21:08:57.808060Z",
     "iopub.status.idle": "2024-05-23T21:08:58.287549Z",
     "shell.execute_reply": "2024-05-23T21:08:58.288068Z",
     "shell.execute_reply.started": "2021-12-20T16:02:51.397496Z"
    },
    "papermill": {
     "duration": 3.692718,
     "end_time": "2024-05-23T21:08:58.288239",
     "exception": false,
     "start_time": "2024-05-23T21:08:54.595521",
     "status": "completed"
    },
    "tags": []
   },
   "outputs": [
    {
     "name": "stdout",
     "output_type": "stream",
     "text": [
      "Confusion matrix, without normalization\n",
      "[[  7   2  11   1   4   1   0]\n",
      " [  1  20   3   1   1   4   0]\n",
      " [  0   0  49   0  16  10   0]\n",
      " [  0   0   0   4   0   2   0]\n",
      " [  0   0   3   1  28   7   0]\n",
      " [  1   3  10   3  30 699   5]\n",
      " [  0   0   0   0   0   1  10]]\n"
     ]
    },
    {
     "data": {
      "image/png": "[encoded data removed]",
      "text/plain": [
       "<Figure size 432x288 with 2 Axes>"
      ]
     },
     "metadata": {
      "needs_background": "light"
     },
     "output_type": "display_data"
    }
   ],
   "source": [
    "# Define the labels of the class indices. These need to match the \n",
    "# order shown above.\n",
    "cm_plot_labels = ['akiec', 'bcc', 'bkl', 'df', 'mel','nv', 'vasc']\n",
    "\n",
    "plot_confusion_matrix(cm, cm_plot_labels, title='Confusion Matrix')"
   ]
  },
  {
   "cell_type": "code",
   "execution_count": 53,
   "id": "70d4e7a1",
   "metadata": {
    "_uuid": "4c46f3f1d257241f96b4aac7eb96831ff8bbea33",
    "execution": {
     "iopub.execute_input": "2024-05-23T21:09:04.628159Z",
     "iopub.status.busy": "2024-05-23T21:09:04.627189Z",
     "iopub.status.idle": "2024-05-23T21:09:04.629853Z",
     "shell.execute_reply": "2024-05-23T21:09:04.629210Z",
     "shell.execute_reply.started": "2021-12-20T16:02:51.894888Z"
    },
    "papermill": {
     "duration": 3.190722,
     "end_time": "2024-05-23T21:09:04.630006",
     "exception": false,
     "start_time": "2024-05-23T21:09:01.439284",
     "status": "completed"
    },
    "tags": []
   },
   "outputs": [],
   "source": [
    "# End of Model Building\n",
    "### ===================================================================================== ###\n",
    "# Convert the Model from Keras to Tensorflow.js"
   ]
  },
  {
   "cell_type": "markdown",
   "id": "1b46a549",
   "metadata": {
    "_uuid": "7f9017d69bf0b84522e34841c1876b613cae1535",
    "papermill": {
     "duration": 3.073214,
     "end_time": "2024-05-23T21:09:10.813947",
     "exception": false,
     "start_time": "2024-05-23T21:09:07.740733",
     "status": "completed"
    },
    "tags": []
   },
   "source": [
    "### Install Tensorflow.js"
   ]
  },
  {
   "cell_type": "code",
   "execution_count": 54,
   "id": "e9f4a195",
   "metadata": {
    "_kg_hide-output": true,
    "_uuid": "2da93a52657b786a8eb7a0d5df6d6a2bcbd0f1c6",
    "execution": {
     "iopub.execute_input": "2024-05-23T21:09:17.125058Z",
     "iopub.status.busy": "2024-05-23T21:09:17.124212Z",
     "iopub.status.idle": "2024-05-23T21:09:17.126851Z",
     "shell.execute_reply": "2024-05-23T21:09:17.126239Z",
     "shell.execute_reply.started": "2021-12-20T16:02:51.901673Z"
    },
    "papermill": {
     "duration": 3.138945,
     "end_time": "2024-05-23T21:09:17.126982",
     "exception": false,
     "start_time": "2024-05-23T21:09:13.988037",
     "status": "completed"
    },
    "tags": []
   },
   "outputs": [],
   "source": [
    "#!pip install tensorflowjs"
   ]
  },
  {
   "cell_type": "markdown",
   "id": "5695c1b2",
   "metadata": {
    "_uuid": "a85d7889e2bada2ebe3b84fc1571a89b1a66b7b0",
    "papermill": {
     "duration": 3.079435,
     "end_time": "2024-05-23T21:09:23.377780",
     "exception": false,
     "start_time": "2024-05-23T21:09:20.298345",
     "status": "completed"
    },
    "tags": []
   },
   "source": [
    "### Convert the model from Keras to Tensorflowjs\n",
    "The conversion code below no longer works in kaggle kernels. I've left it in for reference. \n",
    "\n",
    "In order to convert this model the workaround is as follows:<br>\n",
    "1. Recreate the model using native Keras.<br>\n",
    "2. Use the command line conversion process to convert the model from Keras to Tensorflowjs.<br>\n",
    "Here's how to do that: https://www.youtube.com/watch?v=Kc2_x6pBYGE\n",
    "\n",
    "The above steps can be done in a kaggle kernel quite easily. Tensorflowjs is still fairly new so these type of bugs are not unusual."
   ]
  },
  {
   "cell_type": "code",
   "execution_count": 55,
   "id": "406a1faa",
   "metadata": {
    "_uuid": "9977179251a2feb129a946028fb74d30b9eb7341",
    "execution": {
     "iopub.execute_input": "2024-05-23T21:09:29.735976Z",
     "iopub.status.busy": "2024-05-23T21:09:29.735179Z",
     "iopub.status.idle": "2024-05-23T21:09:29.737728Z",
     "shell.execute_reply": "2024-05-23T21:09:29.737199Z",
     "shell.execute_reply.started": "2021-12-20T16:02:51.909545Z"
    },
    "papermill": {
     "duration": 3.139206,
     "end_time": "2024-05-23T21:09:29.737864",
     "exception": false,
     "start_time": "2024-05-23T21:09:26.598658",
     "status": "completed"
    },
    "tags": []
   },
   "outputs": [],
   "source": [
    "# create a directory to store the model files\n",
    "#os.mkdir('tfjs_dir')\n",
    "\n",
    "# convert to Tensorflow.js\n",
    "#import tensorflowjs as tfjs\n",
    "\n",
    "# Error\n",
    "# AttributeError: module 'tensorflow.python.data.ops.dataset_ops' \n",
    "    # has no attribute 'UnaryDataset'\n",
    "\n",
    "#tfjs.converters.save_keras_model(model, 'tfjs_dir')"
   ]
  },
  {
   "cell_type": "code",
   "execution_count": 56,
   "id": "afeaad4b",
   "metadata": {
    "_uuid": "7df391a2792ddfb7fa2a980776aeac744612f702",
    "execution": {
     "iopub.execute_input": "2024-05-23T21:09:36.099091Z",
     "iopub.status.busy": "2024-05-23T21:09:36.098482Z",
     "iopub.status.idle": "2024-05-23T21:09:36.101377Z",
     "shell.execute_reply": "2024-05-23T21:09:36.100759Z",
     "shell.execute_reply.started": "2021-12-20T16:02:51.917994Z"
    },
    "papermill": {
     "duration": 3.122908,
     "end_time": "2024-05-23T21:09:36.101501",
     "exception": false,
     "start_time": "2024-05-23T21:09:32.978593",
     "status": "completed"
    },
    "tags": []
   },
   "outputs": [],
   "source": [
    "# check the the directory containing the model is available\n",
    "#!ls"
   ]
  },
  {
   "cell_type": "code",
   "execution_count": 57,
   "id": "2b111bef",
   "metadata": {
    "_uuid": "71dd9a6a021d4ffcc159dafd52e7f86ecc6558cb",
    "execution": {
     "iopub.execute_input": "2024-05-23T21:09:42.328142Z",
     "iopub.status.busy": "2024-05-23T21:09:42.327436Z",
     "iopub.status.idle": "2024-05-23T21:09:42.329681Z",
     "shell.execute_reply": "2024-05-23T21:09:42.330157Z",
     "shell.execute_reply.started": "2021-12-20T16:02:51.926912Z"
    },
    "papermill": {
     "duration": 3.087575,
     "end_time": "2024-05-23T21:09:42.330412",
     "exception": false,
     "start_time": "2024-05-23T21:09:39.242837",
     "status": "completed"
    },
    "tags": []
   },
   "outputs": [],
   "source": [
    "# view the files that make up the tensorflow.js model\n",
    "#os.listdir('tfjs_dir')"
   ]
  },
  {
   "cell_type": "code",
   "execution_count": 58,
   "id": "ce0b6ac0",
   "metadata": {
    "_uuid": "f774cd15c6de188d4bb150f25ab600e5cbc06031",
    "execution": {
     "iopub.execute_input": "2024-05-23T21:09:48.566372Z",
     "iopub.status.busy": "2024-05-23T21:09:48.565736Z",
     "iopub.status.idle": "2024-05-23T21:09:50.172743Z",
     "shell.execute_reply": "2024-05-23T21:09:50.173256Z",
     "shell.execute_reply.started": "2021-12-20T16:02:51.935691Z"
    },
    "papermill": {
     "duration": 4.750668,
     "end_time": "2024-05-23T21:09:50.173422",
     "exception": false,
     "start_time": "2024-05-23T21:09:45.422754",
     "status": "completed"
    },
    "tags": []
   },
   "outputs": [],
   "source": [
    "# Delete the image data directory we created to prevent a Kaggle error.\n",
    "# Kaggle allows a max of 500 files to be saved.\n",
    "\n",
    "shutil.rmtree('base_dir')"
   ]
  },
  {
   "cell_type": "markdown",
   "id": "0578d48a",
   "metadata": {
    "_uuid": "4b6056bb27006ebc85fb54bbc8b9b989bd756ff1",
    "papermill": {
     "duration": 3.138561,
     "end_time": "2024-05-23T21:09:56.382777",
     "exception": false,
     "start_time": "2024-05-23T21:09:53.244216",
     "status": "completed"
    },
    "tags": []
   },
   "source": [
    "### Resources\n",
    "\n",
    "These are some resources that I used:"
   ]
  },
  {
   "cell_type": "markdown",
   "id": "c043068b",
   "metadata": {
    "_uuid": "d5f5d88e7cda18fb86c7e9715e488536e4424673",
    "papermill": {
     "duration": 3.127924,
     "end_time": "2024-05-23T21:10:02.652043",
     "exception": false,
     "start_time": "2024-05-23T21:09:59.524119",
     "status": "completed"
    },
    "tags": []
   },
   "source": [
    "1. Excellent tutorial series by deeplizard on how to use Mobilenet with Tensorflow.js<br>\n",
    "https://www.youtube.com/watch?v=HEQDRWMK6yY\n",
    "\n",
    "2. Tutorial by Minsuk Heo on Accuracy, Precision and F1 Score<br>\n",
    "https://www.youtube.com/watch?v=HBi-P5j0Kec\n",
    "\n",
    "3. Tutorial by Data School on how to evaluate a classifier<br>\n",
    "https://www.youtube.com/watch?v=85dtiMz9tSo\n",
    "\n",
    "3. Tensorflow.js gallery of projects<br>\n",
    "https://github.com/tensorflow/tfjs/blob/master/GALLERY.md\n",
    "\n"
   ]
  },
  {
   "cell_type": "code",
   "execution_count": null,
   "id": "ef052a4e",
   "metadata": {
    "_uuid": "ffb96375ce44ef009192bf6ddb44f6eb53a43838",
    "papermill": {
     "duration": 3.083635,
     "end_time": "2024-05-23T21:10:21.275680",
     "exception": false,
     "start_time": "2024-05-23T21:10:18.192045",
     "status": "completed"
    },
    "tags": []
   },
   "outputs": [],
   "source": []
  }
 ],
 "metadata": {
  "kaggle": {
   "accelerator": "gpu",
   "dataSources": [
    {
     "datasetId": 54339,
     "sourceId": 104884,
     "sourceType": "datasetVersion"
    }
   ],
   "dockerImageVersionId": 30153,
   "isGpuEnabled": true,
   "isInternetEnabled": true,
   "language": "python",
   "sourceType": "notebook"
  },
  "kernelspec": {
   "display_name": "Python 3",
   "language": "python",
   "name": "python3"
  },
  "language_info": {
   "codemirror_mode": {
    "name": "ipython",
    "version": 3
   },
   "file_extension": ".py",
   "mimetype": "text/x-python",
   "name": "python",
   "nbconvert_exporter": "python",
   "pygments_lexer": "ipython3",
   "version": "3.7.12"
  },
  "papermill": {
   "default_parameters": {},
   "duration": 1739.68776,
   "end_time": "2024-05-23T21:10:27.653017",
   "environment_variables": {},
   "exception": null,
   "input_path": "__notebook__.ipynb",
   "output_path": "__notebook__.ipynb",
   "parameters": {},
   "start_time": "2024-05-23T20:41:27.965257",
   "version": "2.3.3"
  }
 },
 "nbformat": 4,
 "nbformat_minor": 5
}
